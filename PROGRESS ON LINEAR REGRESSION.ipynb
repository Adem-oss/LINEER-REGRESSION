{
 "cells": [
  {
   "cell_type": "code",
   "execution_count": 2,
   "id": "3a3abc5c",
   "metadata": {},
   "outputs": [],
   "source": [
    "import pandas as pd\n",
    "import numpy as np\n",
    "import matplotlib.pyplot as plt\n",
    "import datetime as dt\n",
    "import seaborn as sns"
   ]
  },
  {
   "cell_type": "code",
   "execution_count": 3,
   "id": "5d286be4",
   "metadata": {},
   "outputs": [],
   "source": [
    "def gradientdescent(x,y,max_iter=1000, lr = 0.01, normalize = False):\n",
    "    if normalize:\n",
    "        x = x/y\n",
    "        y = y/y\n",
    "    tolerance = 10**(-3)\n",
    "    grad = 92\n",
    "    a = np.random.random()\n",
    "    iter_ = 0\n",
    "    print(\"a'nın başlangıç değeri: \",a)\n",
    "    while (abs(grad) > tolerance) and (max_iter > iter_):\n",
    "        grad = 2 * (y - a*x)*(-x)\n",
    "        a = a - lr * grad\n",
    "        if iter_ % 100 == 0:\n",
    "            print(f\"gradient iterasyonu {iter_}, gradient {grad}\")\n",
    "        iter_ += 1\n",
    "    print(\"son iterasyon no:\", iter_)\n",
    "    print(\"mevcut gradient:\", grad)\n",
    "    return a"
   ]
  },
  {
   "cell_type": "code",
   "execution_count": 4,
   "id": "cb333a1d",
   "metadata": {
    "scrolled": true
   },
   "outputs": [
    {
     "name": "stdout",
     "output_type": "stream",
     "text": [
      "a'nın başlangıç değeri:  0.558689801919414\n",
      "gradient iterasyonu 0, gradient -3.530481584644688\n",
      "son iterasyon no: 99\n",
      "mevcut gradient: -0.0009977943269188216\n"
     ]
    },
    {
     "data": {
      "text/plain": [
       "0.9998852536524043"
      ]
     },
     "execution_count": 4,
     "metadata": {},
     "output_type": "execute_result"
    }
   ],
   "source": [
    "gradientdescent(2,2)"
   ]
  },
  {
   "cell_type": "code",
   "execution_count": 5,
   "id": "cff0645b",
   "metadata": {},
   "outputs": [
    {
     "data": {
      "text/plain": [
       "False"
      ]
     },
     "execution_count": 5,
     "metadata": {},
     "output_type": "execute_result"
    }
   ],
   "source": [
    "0.1 + 0.1 + 0.1 == 0.3"
   ]
  },
  {
   "cell_type": "raw",
   "id": "f2c347dc",
   "metadata": {},
   "source": [
    "Bu kod bir gradient descent optimizasyon algoritmasıdır.\n",
    "\n",
    "Gradient descent, bir fonksiyonun minimum noktasına doğru ilerleyen bir optimizasyon algoritmasıdır. Bu algoritmanın genel mantığı, bir başlangıç noktasından başlayarak, her adımda fonksiyonun gradientini (eğimini) hesaplayarak, gradientin ters yöne hareket ederek fonksiyonun minimum noktasına doğru ilerlemektir. Bu işlem, aynı zamanda birçok makine öğrenmesi algoritması için kullanılan bir optimizasyon yöntemidir.\n",
    "\n",
    "Bu özel kod, verilen x ve y dizileri için gradient descent yöntemini kullanarak doğrusal bir regresyon modeli için optimum eğim değerini hesaplar. Varsayılan olarak, maksimum iterasyon sayısı 1000 olarak ayarlanmıştır ve öğrenme oranı 0.01 olarak ayarlanmıştır. İsteğe bağlı olarak, veriler normalize edilebilir.\n",
    "\n",
    "kodun ne yaptığına adım adım bakalım:\n",
    "\n",
    "Fonksiyonun girdileri arasında \"normalize\" adında bir parametre var. Bu parametre varsayılan olarak False'dur, yani normalize edilmeden hesaplama yapılacak demektir. Eğer bu parametre True olarak belirtilirse, x ve y değişkenleri önce normalize edilir.\n",
    "Tolerance değişkeni tanımlanır ve değeri 10^-3 olarak atanır. Bu, algoritmanın duracağı tolerans seviyesini belirler.\n",
    "Grad değişkeni tanımlanır ve değeri 92 olarak atanır. Bu sadece bir başlangıç değeri olarak kullanılacaktır.\n",
    "a değişkeni np.random.random() fonksiyonu kullanılarak rastgele bir sayı atanır. Bu, a'nın başlangıç değerini belirler.\n",
    "iter_ değişkeni tanımlanır ve değeri sıfıra eşitlenir. Bu değişken, kaç tane iterasyon yapıldığını takip etmek için kullanılacak.\n",
    "\"a'nın başlangıç değeri\" mesajı yazdırılır. Bu, kullanıcının hangi başlangıç değerinin kullanıldığına dair bilgi verir.\n",
    "Bir while döngüsü tanımlanır. Bu döngü grad değişkeni tolerance değerinden büyük olduğu sürece çalışacaktır. Aynı zamanda, iterasyon sayısı max_iter değerinden küçük olduğu sürece de çalışacaktır. Bu, sonsuz bir döngüye girme ihtimalini önler.\n",
    "grad değişkeni hesaplanır. Bu, a ve x değerlerine bağlı olan bir değerdir.\n",
    "a değişkeni grad ve learning rate (lr) kullanılarak güncellenir.\n",
    "Eğer iterasyon sayısı 100'e tam bölünüyorsa, \"gradient iterasyonu\" ve \"gradient\" mesajları yazdırılır. Bu, kullanıcının algoritmanın ne kadar sürede tamamlandığı hakkında bilgi sahibi olmasını sağlar.\n",
    "iter_ değişkeni bir arttırılır.\n",
    "Döngü sona erdiğinde, \"son iterasyon no\" ve \"mevcut gradient\" mesajları yazdırılır. Bu, algoritmanın son iterasyonunda hangi değerlerin kullanıldığını belirtir.\n",
    "Son olarak, a değişkeni döndürülür. Bu, hesaplanan doğruyun eğimini temsil eder."
   ]
  },
  {
   "cell_type": "raw",
   "id": "433a3c39",
   "metadata": {},
   "source": []
  },
  {
   "attachments": {},
   "cell_type": "markdown",
   "id": "689e58bf",
   "metadata": {},
   "source": [
    "---"
   ]
  },
  {
   "attachments": {},
   "cell_type": "markdown",
   "id": "5f92ccc2",
   "metadata": {},
   "source": [
    "# LİNEER REGRESYON"
   ]
  },
  {
   "cell_type": "code",
   "execution_count": 129,
   "id": "9fd213f0",
   "metadata": {},
   "outputs": [],
   "source": [
    "import numpy as np\n",
    "import pandas as pd\n",
    "import matplotlib.pyplot as plt\n",
    "import seaborn as sns"
   ]
  },
  {
   "cell_type": "code",
   "execution_count": 363,
   "id": "351b6489",
   "metadata": {},
   "outputs": [
    {
     "data": {
      "text/html": [
       "<div>\n",
       "<style scoped>\n",
       "    .dataframe tbody tr th:only-of-type {\n",
       "        vertical-align: middle;\n",
       "    }\n",
       "\n",
       "    .dataframe tbody tr th {\n",
       "        vertical-align: top;\n",
       "    }\n",
       "\n",
       "    .dataframe thead th {\n",
       "        text-align: right;\n",
       "    }\n",
       "</style>\n",
       "<table border=\"1\" class=\"dataframe\">\n",
       "  <thead>\n",
       "    <tr style=\"text-align: right;\">\n",
       "      <th></th>\n",
       "      <th>carat</th>\n",
       "      <th>cut</th>\n",
       "      <th>color</th>\n",
       "      <th>clarity</th>\n",
       "      <th>depth</th>\n",
       "      <th>table</th>\n",
       "      <th>price</th>\n",
       "      <th>x</th>\n",
       "      <th>y</th>\n",
       "      <th>z</th>\n",
       "    </tr>\n",
       "  </thead>\n",
       "  <tbody>\n",
       "    <tr>\n",
       "      <th>11336</th>\n",
       "      <td>1.01</td>\n",
       "      <td>Good</td>\n",
       "      <td>F</td>\n",
       "      <td>SI1</td>\n",
       "      <td>63.7</td>\n",
       "      <td>57.0</td>\n",
       "      <td>4989</td>\n",
       "      <td>6.40</td>\n",
       "      <td>6.35</td>\n",
       "      <td>4.06</td>\n",
       "    </tr>\n",
       "    <tr>\n",
       "      <th>1687</th>\n",
       "      <td>0.71</td>\n",
       "      <td>Very Good</td>\n",
       "      <td>D</td>\n",
       "      <td>VS2</td>\n",
       "      <td>63.0</td>\n",
       "      <td>57.0</td>\n",
       "      <td>3033</td>\n",
       "      <td>5.67</td>\n",
       "      <td>5.70</td>\n",
       "      <td>3.58</td>\n",
       "    </tr>\n",
       "    <tr>\n",
       "      <th>32387</th>\n",
       "      <td>0.32</td>\n",
       "      <td>Very Good</td>\n",
       "      <td>D</td>\n",
       "      <td>VVS2</td>\n",
       "      <td>60.1</td>\n",
       "      <td>58.0</td>\n",
       "      <td>791</td>\n",
       "      <td>4.41</td>\n",
       "      <td>4.44</td>\n",
       "      <td>2.66</td>\n",
       "    </tr>\n",
       "    <tr>\n",
       "      <th>34437</th>\n",
       "      <td>0.46</td>\n",
       "      <td>Premium</td>\n",
       "      <td>I</td>\n",
       "      <td>SI2</td>\n",
       "      <td>61.0</td>\n",
       "      <td>58.0</td>\n",
       "      <td>863</td>\n",
       "      <td>5.03</td>\n",
       "      <td>4.97</td>\n",
       "      <td>3.05</td>\n",
       "    </tr>\n",
       "    <tr>\n",
       "      <th>10756</th>\n",
       "      <td>1.01</td>\n",
       "      <td>Premium</td>\n",
       "      <td>E</td>\n",
       "      <td>SI1</td>\n",
       "      <td>62.9</td>\n",
       "      <td>59.0</td>\n",
       "      <td>4853</td>\n",
       "      <td>6.38</td>\n",
       "      <td>6.30</td>\n",
       "      <td>3.99</td>\n",
       "    </tr>\n",
       "    <tr>\n",
       "      <th>...</th>\n",
       "      <td>...</td>\n",
       "      <td>...</td>\n",
       "      <td>...</td>\n",
       "      <td>...</td>\n",
       "      <td>...</td>\n",
       "      <td>...</td>\n",
       "      <td>...</td>\n",
       "      <td>...</td>\n",
       "      <td>...</td>\n",
       "      <td>...</td>\n",
       "    </tr>\n",
       "    <tr>\n",
       "      <th>16709</th>\n",
       "      <td>0.30</td>\n",
       "      <td>Very Good</td>\n",
       "      <td>E</td>\n",
       "      <td>SI2</td>\n",
       "      <td>61.7</td>\n",
       "      <td>61.0</td>\n",
       "      <td>421</td>\n",
       "      <td>4.29</td>\n",
       "      <td>4.33</td>\n",
       "      <td>2.66</td>\n",
       "    </tr>\n",
       "    <tr>\n",
       "      <th>1714</th>\n",
       "      <td>0.32</td>\n",
       "      <td>Ideal</td>\n",
       "      <td>G</td>\n",
       "      <td>VS2</td>\n",
       "      <td>61.4</td>\n",
       "      <td>56.0</td>\n",
       "      <td>561</td>\n",
       "      <td>4.37</td>\n",
       "      <td>4.39</td>\n",
       "      <td>2.69</td>\n",
       "    </tr>\n",
       "    <tr>\n",
       "      <th>7806</th>\n",
       "      <td>1.03</td>\n",
       "      <td>Very Good</td>\n",
       "      <td>J</td>\n",
       "      <td>VS1</td>\n",
       "      <td>63.4</td>\n",
       "      <td>58.0</td>\n",
       "      <td>4292</td>\n",
       "      <td>6.36</td>\n",
       "      <td>6.42</td>\n",
       "      <td>4.05</td>\n",
       "    </tr>\n",
       "    <tr>\n",
       "      <th>30795</th>\n",
       "      <td>0.41</td>\n",
       "      <td>Ideal</td>\n",
       "      <td>I</td>\n",
       "      <td>VS2</td>\n",
       "      <td>62.0</td>\n",
       "      <td>57.0</td>\n",
       "      <td>742</td>\n",
       "      <td>4.74</td>\n",
       "      <td>4.77</td>\n",
       "      <td>2.95</td>\n",
       "    </tr>\n",
       "    <tr>\n",
       "      <th>30359</th>\n",
       "      <td>0.39</td>\n",
       "      <td>Ideal</td>\n",
       "      <td>D</td>\n",
       "      <td>SI1</td>\n",
       "      <td>60.6</td>\n",
       "      <td>55.0</td>\n",
       "      <td>729</td>\n",
       "      <td>4.73</td>\n",
       "      <td>4.78</td>\n",
       "      <td>2.88</td>\n",
       "    </tr>\n",
       "  </tbody>\n",
       "</table>\n",
       "<p>150 rows × 10 columns</p>\n",
       "</div>"
      ],
      "text/plain": [
       "       carat        cut color clarity  depth  table  price     x     y     z\n",
       "11336   1.01       Good     F     SI1   63.7   57.0   4989  6.40  6.35  4.06\n",
       "1687    0.71  Very Good     D     VS2   63.0   57.0   3033  5.67  5.70  3.58\n",
       "32387   0.32  Very Good     D    VVS2   60.1   58.0    791  4.41  4.44  2.66\n",
       "34437   0.46    Premium     I     SI2   61.0   58.0    863  5.03  4.97  3.05\n",
       "10756   1.01    Premium     E     SI1   62.9   59.0   4853  6.38  6.30  3.99\n",
       "...      ...        ...   ...     ...    ...    ...    ...   ...   ...   ...\n",
       "16709   0.30  Very Good     E     SI2   61.7   61.0    421  4.29  4.33  2.66\n",
       "1714    0.32      Ideal     G     VS2   61.4   56.0    561  4.37  4.39  2.69\n",
       "7806    1.03  Very Good     J     VS1   63.4   58.0   4292  6.36  6.42  4.05\n",
       "30795   0.41      Ideal     I     VS2   62.0   57.0    742  4.74  4.77  2.95\n",
       "30359   0.39      Ideal     D     SI1   60.6   55.0    729  4.73  4.78  2.88\n",
       "\n",
       "[150 rows x 10 columns]"
      ]
     },
     "execution_count": 363,
     "metadata": {},
     "output_type": "execute_result"
    }
   ],
   "source": [
    "sns.load_dataset(\"diamonds\").sample(150)"
   ]
  },
  {
   "cell_type": "code",
   "execution_count": 362,
   "id": "30e8cc14",
   "metadata": {},
   "outputs": [],
   "source": [
    "np.random.seed(42)\n",
    "df = sns.load_dataset(\"diamonds\").sample(150)[[\"carat\", \"price\"]].reset_index(drop=True)"
   ]
  },
  {
   "cell_type": "code",
   "execution_count": 131,
   "id": "95491a6c",
   "metadata": {},
   "outputs": [
    {
     "data": {
      "text/html": [
       "<div>\n",
       "<style scoped>\n",
       "    .dataframe tbody tr th:only-of-type {\n",
       "        vertical-align: middle;\n",
       "    }\n",
       "\n",
       "    .dataframe tbody tr th {\n",
       "        vertical-align: top;\n",
       "    }\n",
       "\n",
       "    .dataframe thead th {\n",
       "        text-align: right;\n",
       "    }\n",
       "</style>\n",
       "<table border=\"1\" class=\"dataframe\">\n",
       "  <thead>\n",
       "    <tr style=\"text-align: right;\">\n",
       "      <th></th>\n",
       "      <th>carat</th>\n",
       "      <th>price</th>\n",
       "    </tr>\n",
       "  </thead>\n",
       "  <tbody>\n",
       "    <tr>\n",
       "      <th>0</th>\n",
       "      <td>0.24</td>\n",
       "      <td>559</td>\n",
       "    </tr>\n",
       "    <tr>\n",
       "      <th>1</th>\n",
       "      <td>0.58</td>\n",
       "      <td>2201</td>\n",
       "    </tr>\n",
       "    <tr>\n",
       "      <th>2</th>\n",
       "      <td>0.40</td>\n",
       "      <td>1238</td>\n",
       "    </tr>\n",
       "    <tr>\n",
       "      <th>3</th>\n",
       "      <td>0.43</td>\n",
       "      <td>1304</td>\n",
       "    </tr>\n",
       "    <tr>\n",
       "      <th>4</th>\n",
       "      <td>1.55</td>\n",
       "      <td>6901</td>\n",
       "    </tr>\n",
       "    <tr>\n",
       "      <th>...</th>\n",
       "      <td>...</td>\n",
       "      <td>...</td>\n",
       "    </tr>\n",
       "    <tr>\n",
       "      <th>145</th>\n",
       "      <td>0.25</td>\n",
       "      <td>525</td>\n",
       "    </tr>\n",
       "    <tr>\n",
       "      <th>146</th>\n",
       "      <td>1.02</td>\n",
       "      <td>5429</td>\n",
       "    </tr>\n",
       "    <tr>\n",
       "      <th>147</th>\n",
       "      <td>1.54</td>\n",
       "      <td>11897</td>\n",
       "    </tr>\n",
       "    <tr>\n",
       "      <th>148</th>\n",
       "      <td>0.33</td>\n",
       "      <td>781</td>\n",
       "    </tr>\n",
       "    <tr>\n",
       "      <th>149</th>\n",
       "      <td>0.39</td>\n",
       "      <td>1290</td>\n",
       "    </tr>\n",
       "  </tbody>\n",
       "</table>\n",
       "<p>150 rows × 2 columns</p>\n",
       "</div>"
      ],
      "text/plain": [
       "     carat  price\n",
       "0     0.24    559\n",
       "1     0.58   2201\n",
       "2     0.40   1238\n",
       "3     0.43   1304\n",
       "4     1.55   6901\n",
       "..     ...    ...\n",
       "145   0.25    525\n",
       "146   1.02   5429\n",
       "147   1.54  11897\n",
       "148   0.33    781\n",
       "149   0.39   1290\n",
       "\n",
       "[150 rows x 2 columns]"
      ]
     },
     "execution_count": 131,
     "metadata": {},
     "output_type": "execute_result"
    }
   ],
   "source": [
    "df"
   ]
  },
  {
   "cell_type": "code",
   "execution_count": 132,
   "id": "60c5f941",
   "metadata": {},
   "outputs": [
    {
     "data": {
      "text/plain": [
       "<matplotlib.collections.PathCollection at 0x251e31a4520>"
      ]
     },
     "execution_count": 132,
     "metadata": {},
     "output_type": "execute_result"
    },
    {
     "data": {
      "image/png": "[encoded data removed]",
      "text/plain": [
       "<Figure size 640x480 with 1 Axes>"
      ]
     },
     "metadata": {},
     "output_type": "display_data"
    }
   ],
   "source": [
    "plt.scatter(df[\"carat\"], df[\"price\"])"
   ]
  },
  {
   "cell_type": "code",
   "execution_count": 133,
   "id": "d5b0e710",
   "metadata": {},
   "outputs": [],
   "source": [
    "from sympy import *"
   ]
  },
  {
   "cell_type": "code",
   "execution_count": 134,
   "id": "d32e83bc",
   "metadata": {},
   "outputs": [],
   "source": [
    "X = df[\"carat\"]\n",
    "Y = df[\"price\"]"
   ]
  },
  {
   "cell_type": "code",
   "execution_count": 135,
   "id": "1a625c29",
   "metadata": {},
   "outputs": [
    {
     "data": {
      "text/plain": [
       "0    0.24\n",
       "1    0.58\n",
       "2    0.40\n",
       "3    0.43\n",
       "4    1.55\n",
       "Name: carat, dtype: float64"
      ]
     },
     "execution_count": 135,
     "metadata": {},
     "output_type": "execute_result"
    }
   ],
   "source": [
    "X.head()"
   ]
  },
  {
   "cell_type": "code",
   "execution_count": 137,
   "id": "c2832903",
   "metadata": {},
   "outputs": [],
   "source": [
    "a = 0\n",
    "b = 0\n",
    "m = len(X)\n",
    "alpha = 1e-4\n"
   ]
  },
  {
   "cell_type": "code",
   "execution_count": 138,
   "id": "6fed9eed",
   "metadata": {},
   "outputs": [
    {
     "data": {
      "text/plain": [
       "35755873.27333333"
      ]
     },
     "execution_count": 138,
     "metadata": {},
     "output_type": "execute_result"
    }
   ],
   "source": [
    "J(0,0)"
   ]
  },
  {
   "cell_type": "code",
   "execution_count": 139,
   "id": "19d55b22",
   "metadata": {},
   "outputs": [],
   "source": [
    "da = sum([2 * (a*X[i] + b - Y[i])*X[i] for i in range(m)]) / m\n",
    "db = sum([2 * (a*X[i] + b - Y[i]) *1 for i in range(m)]) / m"
   ]
  },
  {
   "cell_type": "code",
   "execution_count": 140,
   "id": "5b04f1c2",
   "metadata": {},
   "outputs": [],
   "source": [
    "a = a - alpha * da\n",
    "b = b - alpha * db"
   ]
  },
  {
   "cell_type": "code",
   "execution_count": 141,
   "id": "5811732a",
   "metadata": {},
   "outputs": [
    {
     "data": {
      "text/plain": [
       "35737320.928407386"
      ]
     },
     "execution_count": 141,
     "metadata": {},
     "output_type": "execute_result"
    }
   ],
   "source": [
    "J(a,b)"
   ]
  },
  {
   "cell_type": "code",
   "execution_count": 142,
   "id": "b0d63699",
   "metadata": {},
   "outputs": [
    {
     "name": "stdout",
     "output_type": "stream",
     "text": [
      "35718781.463882595\n",
      "35700254.87060522\n",
      "35681741.13942807\n",
      "35663240.26121039\n",
      "35644752.226817936\n",
      "35626277.027123086\n",
      "35607814.65300457\n",
      "35589365.09534764\n",
      "35570928.345044196\n",
      "35552504.392992385\n",
      "35534093.230097026\n",
      "35515694.84726933\n",
      "35497309.23542698\n",
      "35478936.385494165\n",
      "35460576.2884015\n",
      "35442228.935086034\n",
      "35423894.31649138\n",
      "35405572.42356752\n",
      "35387263.24727088\n",
      "35368966.778564304\n",
      "35350683.00841715\n",
      "35332411.92780515\n",
      "35314153.527710475\n",
      "35295907.79912174\n",
      "35277674.733033925\n",
      "35259454.32044845\n",
      "35241246.55237316\n",
      "35223051.41982233\n",
      "35204868.91381653\n",
      "35186699.02538285\n",
      "35168541.745554686\n",
      "35150397.06537184\n",
      "35132264.975880526\n",
      "35114145.46813326\n",
      "35096038.533189036\n",
      "35077944.16211312\n",
      "35059862.345977195\n",
      "35041793.07585928\n",
      "35023736.342843734\n",
      "35005692.13802135\n",
      "34987660.45248911\n",
      "34969641.2773505\n",
      "34951634.60371524\n",
      "34933640.42269944\n",
      "34915658.72542548\n",
      "34897689.50302206\n",
      "34879732.746624276\n",
      "34861788.4473735\n",
      "34843856.59641736\n",
      "34825937.184909865\n",
      "34808030.20401125\n",
      "34790135.64488812\n",
      "34772253.49871328\n",
      "34754383.756665975\n",
      "34736526.409931555\n",
      "34718681.44970172\n",
      "34700848.86717449\n",
      "34683028.65355411\n",
      "34665220.80005102\n",
      "34647425.29788209\n",
      "34629642.13827031\n",
      "34611871.312444896\n",
      "34594112.811641455\n",
      "34576366.627101704\n",
      "34558632.75007364\n",
      "34540911.171811536\n",
      "34523201.883575834\n",
      "34505504.87663319\n",
      "34487820.14225653\n",
      "34470147.67172498\n",
      "34452487.45632389\n",
      "34434839.48734475\n",
      "34417203.75608533\n",
      "34399580.253849566\n",
      "34381968.97194756\n",
      "34364369.90169567\n",
      "34346783.03441639\n",
      "34329208.36143837\n",
      "34311645.87409648\n",
      "34294095.56373177\n",
      "34276557.42169143\n",
      "34259031.43932878\n",
      "34241517.60800338\n",
      "34224015.91908088\n",
      "34206526.36393307\n",
      "34189048.93393798\n",
      "34171583.620479606\n",
      "34154130.41494831\n",
      "34136689.30874036\n",
      "34119260.293258294\n",
      "34101843.35991073\n",
      "34084438.500112414\n",
      "34067045.70528414\n",
      "34049664.96685295\n",
      "34032296.276251845\n",
      "34014939.624920055\n",
      "33997595.004302785\n",
      "33980262.40585142\n",
      "33962941.821023375\n",
      "33945633.24128219\n"
     ]
    }
   ],
   "source": [
    "for i in range(100):\n",
    "    da = sum([2 * (a*X[i] + b - Y[i])*X[i] for i in range(m)]) / m\n",
    "    db = sum([2 * (a*X[i] + b - Y[i]) * 1 for i in range(m)]) / m\n",
    "\n",
    "    a = a - alpha * da\n",
    "    b = b - alpha * db\n",
    "\n",
    "    print(J(a,b))\n"
   ]
  },
  {
   "cell_type": "code",
   "execution_count": 143,
   "id": "6b06a9c6",
   "metadata": {},
   "outputs": [],
   "source": [
    "def J(a,b):\n",
    "    m=len(X)\n",
    "    mse = sum([(a*X[i] + b - Y[i])**2 for i in range(m)]) / m\n",
    "    return mse\n"
   ]
  },
  {
   "cell_type": "code",
   "execution_count": 144,
   "id": "aecb0a2a",
   "metadata": {},
   "outputs": [
    {
     "data": {
      "text/plain": [
       "-10619.360158976895"
      ]
     },
     "execution_count": 144,
     "metadata": {},
     "output_type": "execute_result"
    }
   ],
   "source": [
    "da"
   ]
  },
  {
   "cell_type": "code",
   "execution_count": 145,
   "id": "ac6f3f86",
   "metadata": {},
   "outputs": [
    {
     "data": {
      "text/plain": [
       "-7768.203735540315"
      ]
     },
     "execution_count": 145,
     "metadata": {},
     "output_type": "execute_result"
    }
   ],
   "source": [
    "db"
   ]
  },
  {
   "cell_type": "code",
   "execution_count": 19,
   "id": "02eb2e52",
   "metadata": {},
   "outputs": [],
   "source": [
    "class LineerRegresyon:\n",
    "    def __init__(self, alpha =1e-4, tol = 1e-4, max_iter = 1000):\n",
    "        self.max_iter = max_iter\n",
    "        self.alpha = alpha\n",
    "        self.tol = tol\n",
    "    \n",
    "    def egit(self,X,Y):\n",
    "        a = 0\n",
    "        b = 0\n",
    "        m = len(X)\n",
    "        iter_ = 0\n",
    "        # iterasyon\n",
    "        while True:\n",
    "            da = sum([2 * (a*X[i] + b - Y[i])*X[i] for i in range(m)]) / m\n",
    "            db = sum([2 * (a*X[i] + b - Y[i]) for i in range(m)]) / m\n",
    "            a = a - self.alpha * da\n",
    "            b = b - self.alpha * db\n",
    "\n",
    "            if (abs(da) < self.tol and abs(db) < self.tol) or iter_ > self.max_iter:\n",
    "                break\n",
    "\n",
    "            iter_ += 1\n",
    "        if iter_ > self.max_iter:\n",
    "            print(\"max iterasyon sayısına ulaşıldı\")\n",
    "\n",
    "        a: float\n",
    "        b: float\n",
    "\n",
    "        self.a = a\n",
    "        self.b = b\n",
    "        \n",
    "    def tahmin(self, x):\n",
    "        return self.a * x + self.b\n",
    "\n"
   ]
  },
  {
   "cell_type": "code",
   "execution_count": 20,
   "id": "25b190ee",
   "metadata": {},
   "outputs": [
    {
     "data": {
      "text/plain": [
       "(150,)"
      ]
     },
     "execution_count": 20,
     "metadata": {},
     "output_type": "execute_result"
    }
   ],
   "source": [
    "np.array(X).shape"
   ]
  },
  {
   "cell_type": "code",
   "execution_count": 21,
   "id": "45be48a1",
   "metadata": {},
   "outputs": [],
   "source": [
    "class LineerRegresyonV(LineerRegresyon):\n",
    "\n",
    "    def xitemizle(self, X):\n",
    "        X = np.array(X)\n",
    "        if X.ndim == 1:\n",
    "            X = pd.DataFrame({\"x\" : X}).assign(c=1).values\n",
    "        else:\n",
    "            X = pd.DataFrame(X).assign(c=1).values\n",
    "        return X\n",
    "\n",
    "    def egit(self,X,Y):\n",
    "        \n",
    "        X = self.xitemizle(X)\n",
    "\n",
    "        m, n = X.shape\n",
    "\n",
    "        \n",
    "        A = np.random.randn(n,1)\n",
    "        Y = Y.values[:,None]\n",
    "\n",
    "        m = X.shape[0]\n",
    "\n",
    "        dA = 2* X.T @ (X @A  - Y) / m\n",
    "\n",
    "        iter_ = 0\n",
    "        # iterasyon\n",
    "        while True:\n",
    "\n",
    "            dA = 2* X.T @ (X @ A  - Y) / m\n",
    "            self.dA = dA\n",
    "            A = A - self.alpha * dA\n",
    "\n",
    "            if (np.abs(dA) <= self.tol).all() or iter_ > self.max_iter:\n",
    "                break\n",
    "\n",
    "            iter_ += 1\n",
    "            \n",
    "        if iter_ > self.max_iter:\n",
    "            print(\"max iterasyon sayısına ulaşıldı\")\n",
    "\n",
    "        self.A = A\n",
    "    \n",
    "    def tahmin(self, X):\n",
    "        X = self.xitemizle(X)\n",
    "        return X @ self.A"
   ]
  },
  {
   "cell_type": "code",
   "execution_count": 22,
   "id": "59e6c737",
   "metadata": {},
   "outputs": [],
   "source": [
    "# (np.abs(A) <= 1e-4).all()"
   ]
  },
  {
   "cell_type": "code",
   "execution_count": 23,
   "id": "ef63718a",
   "metadata": {},
   "outputs": [],
   "source": [
    "lr = LineerRegresyon(alpha = 5e-1)\n",
    "lr.egit(X,Y)"
   ]
  },
  {
   "cell_type": "code",
   "execution_count": 24,
   "id": "efb9d3f6",
   "metadata": {},
   "outputs": [
    {
     "data": {
      "text/plain": [
       "[<matplotlib.lines.Line2D at 0x251d983b040>]"
      ]
     },
     "execution_count": 24,
     "metadata": {},
     "output_type": "execute_result"
    },
    {
     "data": {
      "image/png": "[encoded data removed]",
      "text/plain": [
       "<Figure size 640x480 with 1 Axes>"
      ]
     },
     "metadata": {},
     "output_type": "display_data"
    }
   ],
   "source": [
    "rng = np.linspace(0, 3, 1000)\n",
    "plt.scatter(df[\"carat\"], df[\"price\"])\n",
    "plt.plot(rng, [lr.tahmin(x) for x in rng], c=\"r\")"
   ]
  },
  {
   "cell_type": "code",
   "execution_count": 25,
   "id": "fc819573",
   "metadata": {},
   "outputs": [],
   "source": [
    "lrv = LineerRegresyonV(alpha = 5e-1)\n",
    "lrv.egit(X,Y)"
   ]
  },
  {
   "cell_type": "code",
   "execution_count": 26,
   "id": "a13e5021",
   "metadata": {},
   "outputs": [
    {
     "data": {
      "text/plain": [
       "[<matplotlib.lines.Line2D at 0x251d98481c0>]"
      ]
     },
     "execution_count": 26,
     "metadata": {},
     "output_type": "execute_result"
    },
    {
     "data": {
      "image/png": "[encoded data removed]",
      "text/plain": [
       "<Figure size 640x480 with 1 Axes>"
      ]
     },
     "metadata": {},
     "output_type": "display_data"
    }
   ],
   "source": [
    "rng = np.linspace(0, 3, 1000)\n",
    "plt.scatter(df[\"carat\"], df[\"price\"])\n",
    "plt.plot(rng, lrv.tahmin(rng), c=\"r\")"
   ]
  },
  {
   "attachments": {},
   "cell_type": "markdown",
   "id": "492c11eb",
   "metadata": {},
   "source": [
    "---"
   ]
  },
  {
   "attachments": {},
   "cell_type": "markdown",
   "id": "e40a0a61",
   "metadata": {},
   "source": [
    "Multiple Linear Regression"
   ]
  },
  {
   "cell_type": "code",
   "execution_count": 328,
   "id": "2e37e9fa",
   "metadata": {},
   "outputs": [],
   "source": [
    "np.random.seed(42) \n",
    "df1 = sns.load_dataset(\"diamonds\").sample(150)[[\"carat\", \"depth\",\"table\",\"price\"]].reset_index(drop=True)"
   ]
  },
  {
   "cell_type": "code",
   "execution_count": 329,
   "id": "b3b50eec",
   "metadata": {},
   "outputs": [],
   "source": [
    "X = df1[[\"carat\", \"depth\",\"table\"]]\n",
    "Y = df1[\"price\"]"
   ]
  },
  {
   "cell_type": "code",
   "execution_count": 202,
   "id": "22612467",
   "metadata": {},
   "outputs": [],
   "source": [
    "Xnorm = (X - X.mean()) / X.std()"
   ]
  },
  {
   "cell_type": "code",
   "execution_count": 203,
   "id": "68b762af",
   "metadata": {},
   "outputs": [],
   "source": [
    "coklu_lr = LineerRegresyonV(alpha = 1.4e-4, max_iter=400_000, tol=1e-8)\n",
    "coklu_lr.egit(Xnorm,Y)"
   ]
  },
  {
   "cell_type": "code",
   "execution_count": 204,
   "id": "af8c6edf",
   "metadata": {},
   "outputs": [
    {
     "data": {
      "text/plain": [
       "array([[-3.24702645e-09],\n",
       "       [ 9.23177822e-09],\n",
       "       [ 9.99991547e-09],\n",
       "       [-1.62290841e-09]])"
      ]
     },
     "execution_count": 204,
     "metadata": {},
     "output_type": "execute_result"
    }
   ],
   "source": [
    "coklu_lr.dA"
   ]
  },
  {
   "cell_type": "code",
   "execution_count": 205,
   "id": "c128fe67",
   "metadata": {},
   "outputs": [
    {
     "data": {
      "text/html": [
       "<div>\n",
       "<style scoped>\n",
       "    .dataframe tbody tr th:only-of-type {\n",
       "        vertical-align: middle;\n",
       "    }\n",
       "\n",
       "    .dataframe tbody tr th {\n",
       "        vertical-align: top;\n",
       "    }\n",
       "\n",
       "    .dataframe thead th {\n",
       "        text-align: right;\n",
       "    }\n",
       "</style>\n",
       "<table border=\"1\" class=\"dataframe\">\n",
       "  <thead>\n",
       "    <tr style=\"text-align: right;\">\n",
       "      <th></th>\n",
       "      <th>carat</th>\n",
       "      <th>depth</th>\n",
       "      <th>table</th>\n",
       "    </tr>\n",
       "  </thead>\n",
       "  <tbody>\n",
       "    <tr>\n",
       "      <th>0</th>\n",
       "      <td>0.24</td>\n",
       "      <td>62.1</td>\n",
       "      <td>56.0</td>\n",
       "    </tr>\n",
       "    <tr>\n",
       "      <th>1</th>\n",
       "      <td>0.58</td>\n",
       "      <td>60.0</td>\n",
       "      <td>57.0</td>\n",
       "    </tr>\n",
       "    <tr>\n",
       "      <th>2</th>\n",
       "      <td>0.40</td>\n",
       "      <td>62.1</td>\n",
       "      <td>55.0</td>\n",
       "    </tr>\n",
       "    <tr>\n",
       "      <th>3</th>\n",
       "      <td>0.43</td>\n",
       "      <td>60.8</td>\n",
       "      <td>57.0</td>\n",
       "    </tr>\n",
       "    <tr>\n",
       "      <th>4</th>\n",
       "      <td>1.55</td>\n",
       "      <td>62.3</td>\n",
       "      <td>55.0</td>\n",
       "    </tr>\n",
       "    <tr>\n",
       "      <th>...</th>\n",
       "      <td>...</td>\n",
       "      <td>...</td>\n",
       "      <td>...</td>\n",
       "    </tr>\n",
       "    <tr>\n",
       "      <th>145</th>\n",
       "      <td>0.25</td>\n",
       "      <td>61.7</td>\n",
       "      <td>56.0</td>\n",
       "    </tr>\n",
       "    <tr>\n",
       "      <th>146</th>\n",
       "      <td>1.02</td>\n",
       "      <td>62.8</td>\n",
       "      <td>58.0</td>\n",
       "    </tr>\n",
       "    <tr>\n",
       "      <th>147</th>\n",
       "      <td>1.54</td>\n",
       "      <td>60.9</td>\n",
       "      <td>59.0</td>\n",
       "    </tr>\n",
       "    <tr>\n",
       "      <th>148</th>\n",
       "      <td>0.33</td>\n",
       "      <td>62.1</td>\n",
       "      <td>55.0</td>\n",
       "    </tr>\n",
       "    <tr>\n",
       "      <th>149</th>\n",
       "      <td>0.39</td>\n",
       "      <td>62.7</td>\n",
       "      <td>57.0</td>\n",
       "    </tr>\n",
       "  </tbody>\n",
       "</table>\n",
       "<p>150 rows × 3 columns</p>\n",
       "</div>"
      ],
      "text/plain": [
       "     carat  depth  table\n",
       "0     0.24   62.1   56.0\n",
       "1     0.58   60.0   57.0\n",
       "2     0.40   62.1   55.0\n",
       "3     0.43   60.8   57.0\n",
       "4     1.55   62.3   55.0\n",
       "..     ...    ...    ...\n",
       "145   0.25   61.7   56.0\n",
       "146   1.02   62.8   58.0\n",
       "147   1.54   60.9   59.0\n",
       "148   0.33   62.1   55.0\n",
       "149   0.39   62.7   57.0\n",
       "\n",
       "[150 rows x 3 columns]"
      ]
     },
     "execution_count": 205,
     "metadata": {},
     "output_type": "execute_result"
    }
   ],
   "source": [
    "X"
   ]
  },
  {
   "cell_type": "code",
   "execution_count": 91,
   "id": "eea9e93b",
   "metadata": {},
   "outputs": [
    {
     "data": {
      "text/plain": [
       "array([[-3.15506354e-05],\n",
       "       [ 9.24303445e-05],\n",
       "       [ 9.99970673e-05],\n",
       "       [-2.48684046e-08]])"
      ]
     },
     "execution_count": 91,
     "metadata": {},
     "output_type": "execute_result"
    }
   ],
   "source": [
    "coklu_lr.dA"
   ]
  },
  {
   "cell_type": "code",
   "execution_count": 120,
   "id": "6eb91053",
   "metadata": {},
   "outputs": [
    {
     "data": {
      "text/plain": [
       "array([[4175.38185875],\n",
       "       [ -16.07749934],\n",
       "       [-174.84109498],\n",
       "       [4050.96666667]])"
      ]
     },
     "execution_count": 120,
     "metadata": {},
     "output_type": "execute_result"
    }
   ],
   "source": [
    "coklu_lr.A"
   ]
  },
  {
   "cell_type": "code",
   "execution_count": 93,
   "id": "da5bf8c8",
   "metadata": {},
   "outputs": [
    {
     "data": {
      "text/plain": [
       "array([[-5498.73790508]])"
      ]
     },
     "execution_count": 93,
     "metadata": {},
     "output_type": "execute_result"
    }
   ],
   "source": [
    "coklu_lr.tahmin([[0.29, 60.3, 56]])"
   ]
  },
  {
   "cell_type": "code",
   "execution_count": 94,
   "id": "49b211bd",
   "metadata": {},
   "outputs": [
    {
     "data": {
      "text/plain": [
       "array([[-0.98181704, -1.01579889, -0.5267022 ]])"
      ]
     },
     "execution_count": 94,
     "metadata": {},
     "output_type": "execute_result"
    }
   ],
   "source": [
    "(np.array([[0.29, 60.3, 56]]) - X.mean().values) / X.std().values"
   ]
  },
  {
   "cell_type": "code",
   "execution_count": 95,
   "id": "b6373948",
   "metadata": {},
   "outputs": [
    {
     "data": {
      "text/plain": [
       "array([[59.92621708]])"
      ]
     },
     "execution_count": 95,
     "metadata": {},
     "output_type": "execute_result"
    }
   ],
   "source": [
    "coklu_lr.tahmin ((np.array([[0.29, 60.3, 56]]) - X.mean().values) / X.std().values)"
   ]
  },
  {
   "cell_type": "code",
   "execution_count": 96,
   "id": "bdd3369f",
   "metadata": {},
   "outputs": [
    {
     "data": {
      "text/plain": [
       "array([[4175.38183271],\n",
       "       [ -16.07742302],\n",
       "       [-174.84101242],\n",
       "       [4050.96666665]])"
      ]
     },
     "execution_count": 96,
     "metadata": {},
     "output_type": "execute_result"
    }
   ],
   "source": [
    "coklu_lr.A"
   ]
  },
  {
   "cell_type": "code",
   "execution_count": 117,
   "id": "fed355db",
   "metadata": {},
   "outputs": [],
   "source": [
    "coklu_lr2 = LineerRegresyonV(alpha = 1.4e-2, max_iter=400_000, tol=1e-4)\n",
    "coklu_lr2.egit(Xnorm / 19 + 0.2 ,Y)"
   ]
  },
  {
   "cell_type": "code",
   "execution_count": 98,
   "id": "6bb4df1f",
   "metadata": {},
   "outputs": [
    {
     "data": {
      "text/plain": [
       "array([[59.9241331]])"
      ]
     },
     "execution_count": 98,
     "metadata": {},
     "output_type": "execute_result"
    }
   ],
   "source": [
    "coklu_lr2.tahmin ((np.array([[0.29, 60.3, 56]]) - X.mean().values) / X.std().values / 19 + 0.2)"
   ]
  },
  {
   "cell_type": "code",
   "execution_count": 99,
   "id": "4e660216",
   "metadata": {},
   "outputs": [
    {
     "data": {
      "text/plain": [
       "array([[ 79332.24910389],\n",
       "       [  -305.44240063],\n",
       "       [ -3321.94926266],\n",
       "       [-11090.00483901]])"
      ]
     },
     "execution_count": 99,
     "metadata": {},
     "output_type": "execute_result"
    }
   ],
   "source": [
    "coklu_lr2.A"
   ]
  },
  {
   "attachments": {},
   "cell_type": "markdown",
   "id": "2162c021",
   "metadata": {},
   "source": [
    "---"
   ]
  },
  {
   "attachments": {},
   "cell_type": "markdown",
   "id": "d3b85eff",
   "metadata": {},
   "source": [
    "Hazır Kütüphaneler"
   ]
  },
  {
   "cell_type": "code",
   "execution_count": 198,
   "id": "f4f9942e",
   "metadata": {},
   "outputs": [],
   "source": [
    "from sklearn import linear_model"
   ]
  },
  {
   "cell_type": "code",
   "execution_count": 206,
   "id": "2488b2be",
   "metadata": {},
   "outputs": [
    {
     "data": {
      "text/html": [
       "<style>#sk-container-id-5 {color: black;background-color: white;}#sk-container-id-5 pre{padding: 0;}#sk-container-id-5 div.sk-toggleable {background-color: white;}#sk-container-id-5 label.sk-toggleable__label {cursor: pointer;display: block;width: 100%;margin-bottom: 0;padding: 0.3em;box-sizing: border-box;text-align: center;}#sk-container-id-5 label.sk-toggleable__label-arrow:before {content: \"▸\";float: left;margin-right: 0.25em;color: #696969;}#sk-container-id-5 label.sk-toggleable__label-arrow:hover:before {color: black;}#sk-container-id-5 div.sk-estimator:hover label.sk-toggleable__label-arrow:before {color: black;}#sk-container-id-5 div.sk-toggleable__content {max-height: 0;max-width: 0;overflow: hidden;text-align: left;background-color: #f0f8ff;}#sk-container-id-5 div.sk-toggleable__content pre {margin: 0.2em;color: black;border-radius: 0.25em;background-color: #f0f8ff;}#sk-container-id-5 input.sk-toggleable__control:checked~div.sk-toggleable__content {max-height: 200px;max-width: 100%;overflow: auto;}#sk-container-id-5 input.sk-toggleable__control:checked~label.sk-toggleable__label-arrow:before {content: \"▾\";}#sk-container-id-5 div.sk-estimator input.sk-toggleable__control:checked~label.sk-toggleable__label {background-color: #d4ebff;}#sk-container-id-5 div.sk-label input.sk-toggleable__control:checked~label.sk-toggleable__label {background-color: #d4ebff;}#sk-container-id-5 input.sk-hidden--visually {border: 0;clip: rect(1px 1px 1px 1px);clip: rect(1px, 1px, 1px, 1px);height: 1px;margin: -1px;overflow: hidden;padding: 0;position: absolute;width: 1px;}#sk-container-id-5 div.sk-estimator {font-family: monospace;background-color: #f0f8ff;border: 1px dotted black;border-radius: 0.25em;box-sizing: border-box;margin-bottom: 0.5em;}#sk-container-id-5 div.sk-estimator:hover {background-color: #d4ebff;}#sk-container-id-5 div.sk-parallel-item::after {content: \"\";width: 100%;border-bottom: 1px solid gray;flex-grow: 1;}#sk-container-id-5 div.sk-label:hover label.sk-toggleable__label {background-color: #d4ebff;}#sk-container-id-5 div.sk-serial::before {content: \"\";position: absolute;border-left: 1px solid gray;box-sizing: border-box;top: 0;bottom: 0;left: 50%;z-index: 0;}#sk-container-id-5 div.sk-serial {display: flex;flex-direction: column;align-items: center;background-color: white;padding-right: 0.2em;padding-left: 0.2em;position: relative;}#sk-container-id-5 div.sk-item {position: relative;z-index: 1;}#sk-container-id-5 div.sk-parallel {display: flex;align-items: stretch;justify-content: center;background-color: white;position: relative;}#sk-container-id-5 div.sk-item::before, #sk-container-id-5 div.sk-parallel-item::before {content: \"\";position: absolute;border-left: 1px solid gray;box-sizing: border-box;top: 0;bottom: 0;left: 50%;z-index: -1;}#sk-container-id-5 div.sk-parallel-item {display: flex;flex-direction: column;z-index: 1;position: relative;background-color: white;}#sk-container-id-5 div.sk-parallel-item:first-child::after {align-self: flex-end;width: 50%;}#sk-container-id-5 div.sk-parallel-item:last-child::after {align-self: flex-start;width: 50%;}#sk-container-id-5 div.sk-parallel-item:only-child::after {width: 0;}#sk-container-id-5 div.sk-dashed-wrapped {border: 1px dashed gray;margin: 0 0.4em 0.5em 0.4em;box-sizing: border-box;padding-bottom: 0.4em;background-color: white;}#sk-container-id-5 div.sk-label label {font-family: monospace;font-weight: bold;display: inline-block;line-height: 1.2em;}#sk-container-id-5 div.sk-label-container {text-align: center;}#sk-container-id-5 div.sk-container {/* jupyter's `normalize.less` sets `[hidden] { display: none; }` but bootstrap.min.css set `[hidden] { display: none !important; }` so we also need the `!important` here to be able to override the default hidden behavior on the sphinx rendered scikit-learn.org. See: https://github.com/scikit-learn/scikit-learn/issues/21755 */display: inline-block !important;position: relative;}#sk-container-id-5 div.sk-text-repr-fallback {display: none;}</style><div id=\"sk-container-id-5\" class=\"sk-top-container\"><div class=\"sk-text-repr-fallback\"><pre>LinearRegression()</pre><b>In a Jupyter environment, please rerun this cell to show the HTML representation or trust the notebook. <br />On GitHub, the HTML representation is unable to render, please try loading this page with nbviewer.org.</b></div><div class=\"sk-container\" hidden><div class=\"sk-item\"><div class=\"sk-estimator sk-toggleable\"><input class=\"sk-toggleable__control sk-hidden--visually\" id=\"sk-estimator-id-5\" type=\"checkbox\" checked><label for=\"sk-estimator-id-5\" class=\"sk-toggleable__label sk-toggleable__label-arrow\">LinearRegression</label><div class=\"sk-toggleable__content\"><pre>LinearRegression()</pre></div></div></div></div></div>"
      ],
      "text/plain": [
       "LinearRegression()"
      ]
     },
     "execution_count": 206,
     "metadata": {},
     "output_type": "execute_result"
    }
   ],
   "source": [
    "model = linear_model.LinearRegression()\n",
    "model.fit(X,Y)"
   ]
  },
  {
   "cell_type": "code",
   "execution_count": 207,
   "id": "df368ece",
   "metadata": {},
   "outputs": [
    {
     "name": "stderr",
     "output_type": "stream",
     "text": [
      "c:\\Users\\kmara\\AppData\\Local\\Programs\\Python\\Python39\\lib\\site-packages\\sklearn\\base.py:439: UserWarning: X does not have valid feature names, but LinearRegression was fitted with feature names\n",
      "  warnings.warn(\n"
     ]
    },
    {
     "data": {
      "text/plain": [
       "array([59.92631255])"
      ]
     },
     "execution_count": 207,
     "metadata": {},
     "output_type": "execute_result"
    }
   ],
   "source": [
    "model.predict(np.array([[0.29, 60.3, 56]]))"
   ]
  },
  {
   "cell_type": "code",
   "execution_count": 104,
   "id": "c2256260",
   "metadata": {},
   "outputs": [
    {
     "data": {
      "text/plain": [
       "array([7863.41633622,  -10.86834918,  -78.88851211])"
      ]
     },
     "execution_count": 104,
     "metadata": {},
     "output_type": "execute_result"
    }
   ],
   "source": [
    "model.coef_"
   ]
  },
  {
   "cell_type": "code",
   "execution_count": 105,
   "id": "781be04c",
   "metadata": {},
   "outputs": [
    {
     "data": {
      "text/plain": [
       "2852.653708493733"
      ]
     },
     "execution_count": 105,
     "metadata": {},
     "output_type": "execute_result"
    }
   ],
   "source": [
    "model.intercept_"
   ]
  },
  {
   "cell_type": "code",
   "execution_count": 122,
   "id": "30edb946",
   "metadata": {},
   "outputs": [
    {
     "data": {
      "text/plain": [
       "2215053.243448913"
      ]
     },
     "execution_count": 122,
     "metadata": {},
     "output_type": "execute_result"
    }
   ],
   "source": [
    "((coklu_lr.tahmin(Xnorm).ravel() - Y)**2).mean()"
   ]
  },
  {
   "cell_type": "code",
   "execution_count": 110,
   "id": "e9ef38ff",
   "metadata": {},
   "outputs": [
    {
     "data": {
      "text/plain": [
       "2215053.2434489136"
      ]
     },
     "execution_count": 110,
     "metadata": {},
     "output_type": "execute_result"
    }
   ],
   "source": [
    "((model.predict(X) - Y)**2).mean()"
   ]
  },
  {
   "cell_type": "code",
   "execution_count": 116,
   "id": "d33129bd",
   "metadata": {},
   "outputs": [
    {
     "data": {
      "text/plain": [
       "array([[4175.38185875],\n",
       "       [ -16.07749934],\n",
       "       [-174.84109498],\n",
       "       [4050.96666667]])"
      ]
     },
     "execution_count": 116,
     "metadata": {},
     "output_type": "execute_result"
    }
   ],
   "source": [
    "coklu_lr2.A"
   ]
  },
  {
   "cell_type": "code",
   "execution_count": null,
   "id": "8c33f9e7",
   "metadata": {},
   "outputs": [],
   "source": []
  },
  {
   "cell_type": "code",
   "execution_count": null,
   "id": "975f2ada",
   "metadata": {},
   "outputs": [],
   "source": []
  },
  {
   "cell_type": "code",
   "execution_count": null,
   "id": "0e7f0383",
   "metadata": {},
   "outputs": [],
   "source": []
  },
  {
   "cell_type": "code",
   "execution_count": null,
   "id": "9abf51fc",
   "metadata": {},
   "outputs": [],
   "source": []
  },
  {
   "attachments": {},
   "cell_type": "markdown",
   "id": "68996b2a",
   "metadata": {},
   "source": [
    "---"
   ]
  },
  {
   "cell_type": "code",
   "execution_count": 146,
   "id": "8646f7ba",
   "metadata": {},
   "outputs": [
    {
     "data": {
      "text/plain": [
       "4050.9667014873494"
      ]
     },
     "execution_count": 146,
     "metadata": {},
     "output_type": "execute_result"
    }
   ],
   "source": [
    "lr.tahmin(X.mean())"
   ]
  },
  {
   "cell_type": "code",
   "execution_count": 147,
   "id": "d6ec6308",
   "metadata": {},
   "outputs": [
    {
     "data": {
      "text/plain": [
       "4050.9666666666667"
      ]
     },
     "execution_count": 147,
     "metadata": {},
     "output_type": "execute_result"
    }
   ],
   "source": [
    "Y.mean()"
   ]
  },
  {
   "cell_type": "code",
   "execution_count": 148,
   "id": "d73d1e90",
   "metadata": {},
   "outputs": [
    {
     "data": {
      "text/plain": [
       "0.005223102482887043"
      ]
     },
     "execution_count": 148,
     "metadata": {},
     "output_type": "execute_result"
    }
   ],
   "source": [
    "(lr.tahmin(X)-Y).sum()"
   ]
  },
  {
   "cell_type": "code",
   "execution_count": 149,
   "id": "4b8d2e22",
   "metadata": {},
   "outputs": [
    {
     "data": {
      "text/plain": [
       "607645.0052231026"
      ]
     },
     "execution_count": 149,
     "metadata": {},
     "output_type": "execute_result"
    }
   ],
   "source": [
    "lr.tahmin(X).sum()"
   ]
  },
  {
   "cell_type": "code",
   "execution_count": 150,
   "id": "172d56de",
   "metadata": {},
   "outputs": [
    {
     "data": {
      "text/plain": [
       "607645"
      ]
     },
     "execution_count": 150,
     "metadata": {},
     "output_type": "execute_result"
    }
   ],
   "source": [
    "Y.sum()"
   ]
  },
  {
   "cell_type": "code",
   "execution_count": 151,
   "id": "6de5afed",
   "metadata": {},
   "outputs": [
    {
     "name": "stdout",
     "output_type": "stream",
     "text": [
      "7814.455658644848\n",
      "-2289.1616562265035\n"
     ]
    }
   ],
   "source": [
    "print(lr.a)\n",
    "print(lr.b)"
   ]
  },
  {
   "cell_type": "code",
   "execution_count": 152,
   "id": "84e793f9",
   "metadata": {},
   "outputs": [],
   "source": [
    "x5 = X[:5]\n",
    "y5 = Y[:5]"
   ]
  },
  {
   "cell_type": "code",
   "execution_count": 153,
   "id": "00a959ff",
   "metadata": {},
   "outputs": [
    {
     "data": {
      "text/plain": [
       "0    0.24\n",
       "1    0.58\n",
       "2    0.40\n",
       "3    0.43\n",
       "4    1.55\n",
       "Name: carat, dtype: float64"
      ]
     },
     "execution_count": 153,
     "metadata": {},
     "output_type": "execute_result"
    }
   ],
   "source": [
    "x5"
   ]
  },
  {
   "cell_type": "code",
   "execution_count": 154,
   "id": "500745d4",
   "metadata": {},
   "outputs": [
    {
     "data": {
      "text/plain": [
       "0     559\n",
       "1    2201\n",
       "2    1238\n",
       "3    1304\n",
       "4    6901\n",
       "Name: price, dtype: int64"
      ]
     },
     "execution_count": 154,
     "metadata": {},
     "output_type": "execute_result"
    }
   ],
   "source": [
    "y5"
   ]
  },
  {
   "cell_type": "code",
   "execution_count": 155,
   "id": "f3446739",
   "metadata": {},
   "outputs": [
    {
     "data": {
      "text/plain": [
       "-413.69229815174003"
      ]
     },
     "execution_count": 155,
     "metadata": {},
     "output_type": "execute_result"
    }
   ],
   "source": [
    "x5[0] * lr.a + lr.b"
   ]
  },
  {
   "cell_type": "code",
   "execution_count": 156,
   "id": "1e15e089",
   "metadata": {},
   "outputs": [
    {
     "data": {
      "text/plain": [
       "[-413.69229815174003,\n",
       " 2243.222625787508,\n",
       " 836.6206072314358,\n",
       " 1071.054276990781,\n",
       " 9823.24461467301]"
      ]
     },
     "execution_count": 156,
     "metadata": {},
     "output_type": "execute_result"
    }
   ],
   "source": [
    "[lr.tahmin(x) for x in x5]    "
   ]
  },
  {
   "cell_type": "code",
   "execution_count": 157,
   "id": "795586b3",
   "metadata": {},
   "outputs": [
    {
     "data": {
      "text/plain": [
       "-2289.1616562265035"
      ]
     },
     "execution_count": 157,
     "metadata": {},
     "output_type": "execute_result"
    }
   ],
   "source": [
    "lr.b"
   ]
  },
  {
   "cell_type": "code",
   "execution_count": 158,
   "id": "1fc6acff",
   "metadata": {},
   "outputs": [
    {
     "data": {
      "text/plain": [
       "array([[0.24, 1.  ],\n",
       "       [0.58, 1.  ],\n",
       "       [0.4 , 1.  ],\n",
       "       [0.43, 1.  ],\n",
       "       [1.55, 1.  ]])"
      ]
     },
     "execution_count": 158,
     "metadata": {},
     "output_type": "execute_result"
    }
   ],
   "source": [
    "XX = pd.DataFrame({'carat': x5}).assign(c=1).values\n",
    "XX"
   ]
  },
  {
   "cell_type": "code",
   "execution_count": 159,
   "id": "4412fdc5",
   "metadata": {},
   "outputs": [
    {
     "data": {
      "text/plain": [
       "array([[ 7814.45565864],\n",
       "       [-2289.16165623]])"
      ]
     },
     "execution_count": 159,
     "metadata": {},
     "output_type": "execute_result"
    }
   ],
   "source": [
    "A = np.array(\n",
    "    [[lr.a], \n",
    "    [lr.b]])\n",
    "A"
   ]
  },
  {
   "cell_type": "code",
   "execution_count": 160,
   "id": "c7e7c074",
   "metadata": {},
   "outputs": [
    {
     "data": {
      "text/plain": [
       "array([[-413.69229815],\n",
       "       [2243.22262579],\n",
       "       [ 836.62060723],\n",
       "       [1071.05427699],\n",
       "       [9823.24461467]])"
      ]
     },
     "execution_count": 160,
     "metadata": {},
     "output_type": "execute_result"
    }
   ],
   "source": [
    "XX @ A"
   ]
  },
  {
   "cell_type": "code",
   "execution_count": 161,
   "id": "31fe50c7",
   "metadata": {},
   "outputs": [],
   "source": [
    "a = 0\n",
    "b = 0\n",
    "m = len(X)\n",
    "# iterasyon\n",
    "da = sum([2 * (a*X[i] + b - Y[i])*X[i] for i in range(5)]) / m\n",
    "db = sum([2 * (a*X[i] + b - Y[i]) for i in range(5)]) / m"
   ]
  },
  {
   "cell_type": "code",
   "execution_count": 162,
   "id": "ad948d20",
   "metadata": {},
   "outputs": [
    {
     "data": {
      "text/plain": [
       "-175.50946666666667"
      ]
     },
     "execution_count": 162,
     "metadata": {},
     "output_type": "execute_result"
    }
   ],
   "source": [
    "da"
   ]
  },
  {
   "cell_type": "code",
   "execution_count": 163,
   "id": "d45f3404",
   "metadata": {},
   "outputs": [
    {
     "data": {
      "text/plain": [
       "-162.70666666666668"
      ]
     },
     "execution_count": 163,
     "metadata": {},
     "output_type": "execute_result"
    }
   ],
   "source": [
    "db"
   ]
  },
  {
   "cell_type": "code",
   "execution_count": 164,
   "id": "7781bb36",
   "metadata": {},
   "outputs": [
    {
     "data": {
      "text/plain": [
       "array([[ 559],\n",
       "       [2201],\n",
       "       [1238],\n",
       "       [1304],\n",
       "       [6901]], dtype=int64)"
      ]
     },
     "execution_count": 164,
     "metadata": {},
     "output_type": "execute_result"
    }
   ],
   "source": [
    "YY = y5.values[:,None]\n",
    "YY"
   ]
  },
  {
   "cell_type": "code",
   "execution_count": 165,
   "id": "42d1e2bd",
   "metadata": {},
   "outputs": [
    {
     "data": {
      "text/plain": [
       "(5, 1)"
      ]
     },
     "execution_count": 165,
     "metadata": {},
     "output_type": "execute_result"
    }
   ],
   "source": [
    "YY.shape"
   ]
  },
  {
   "cell_type": "code",
   "execution_count": 166,
   "id": "6a104129",
   "metadata": {},
   "outputs": [
    {
     "data": {
      "text/plain": [
       "array([[ 7814.45565864],\n",
       "       [-2289.16165623]])"
      ]
     },
     "execution_count": 166,
     "metadata": {},
     "output_type": "execute_result"
    }
   ],
   "source": [
    "A"
   ]
  },
  {
   "cell_type": "code",
   "execution_count": 167,
   "id": "ee243b52",
   "metadata": {},
   "outputs": [
    {
     "data": {
      "text/plain": [
       "array([[-175.50946667],\n",
       "       [-162.70666667]])"
      ]
     },
     "execution_count": 167,
     "metadata": {},
     "output_type": "execute_result"
    }
   ],
   "source": [
    "XX.T @ (XX @ np.zeros((2,1)) - YY) / m * 2"
   ]
  },
  {
   "cell_type": "code",
   "execution_count": null,
   "id": "57bb15ec",
   "metadata": {},
   "outputs": [],
   "source": []
  },
  {
   "cell_type": "code",
   "execution_count": null,
   "id": "089a4f4f",
   "metadata": {},
   "outputs": [],
   "source": []
  },
  {
   "cell_type": "code",
   "execution_count": 168,
   "id": "1d8fd256",
   "metadata": {},
   "outputs": [],
   "source": [
    "class Model:\n",
    "    def __init__(self, a, b):\n",
    "        self.a = a\n",
    "        self.b = b\n",
    "\n",
    "    def predict(self, x):\n",
    "        return self.a * x + self.b"
   ]
  },
  {
   "cell_type": "code",
   "execution_count": 172,
   "id": "87c49caa",
   "metadata": {},
   "outputs": [],
   "source": [
    "def lineer_regresyon(X, Y, alpha=1e-4, tol=1e-4):\n",
    "    # ilk tanımlar\n",
    "    a = 0\n",
    "    b = 0\n",
    "    m = len(X)\n",
    "\n",
    "    # iterasyonlar\n",
    "    while True:\n",
    "        da = sum([2 * (a*X[i] + b - Y[i])*X[i] for i in range(m)]) / m\n",
    "        db = sum([2 * (a*X[i] + b - Y[i]) for i in range(m)]) / m\n",
    "        a = a - alpha * da\n",
    "        b = b - alpha * db\n",
    "\n",
    "        if abs(da) < tol and abs(db) < tol:\n",
    "            break\n",
    "\n",
    "    a: float\n",
    "    b: float\n",
    "    \n",
    "    return Model(a, b)"
   ]
  },
  {
   "cell_type": "code",
   "execution_count": 173,
   "id": "6ca2a651",
   "metadata": {},
   "outputs": [],
   "source": [
    "h = lineer_regresyon(X,Y, alpha=5e-1)     "
   ]
  },
  {
   "cell_type": "code",
   "execution_count": 174,
   "id": "7d0d2f2c",
   "metadata": {},
   "outputs": [],
   "source": [
    "h2 = lineer_regresyon(np.log(X), Y, alpha=1e-2)"
   ]
  },
  {
   "cell_type": "code",
   "execution_count": 175,
   "id": "8ead16e3",
   "metadata": {},
   "outputs": [
    {
     "data": {
      "text/plain": [
       "-758.3202303563676"
      ]
     },
     "execution_count": 175,
     "metadata": {},
     "output_type": "execute_result"
    }
   ],
   "source": [
    "h2.predict(np.log(0.3))"
   ]
  },
  {
   "cell_type": "code",
   "execution_count": 176,
   "id": "138dd6bd",
   "metadata": {},
   "outputs": [
    {
     "data": {
      "text/plain": [
       "0"
      ]
     },
     "execution_count": 176,
     "metadata": {},
     "output_type": "execute_result"
    }
   ],
   "source": [
    "a"
   ]
  },
  {
   "cell_type": "code",
   "execution_count": 177,
   "id": "ba95e4ee",
   "metadata": {},
   "outputs": [
    {
     "data": {
      "text/plain": [
       "0"
      ]
     },
     "execution_count": 177,
     "metadata": {},
     "output_type": "execute_result"
    }
   ],
   "source": [
    "b"
   ]
  },
  {
   "cell_type": "code",
   "execution_count": 178,
   "id": "1f8728e9",
   "metadata": {},
   "outputs": [
    {
     "data": {
      "text/plain": [
       "-413.69229815174003"
      ]
     },
     "execution_count": 178,
     "metadata": {},
     "output_type": "execute_result"
    }
   ],
   "source": [
    "h.predict(0.24)"
   ]
  },
  {
   "cell_type": "code",
   "execution_count": 179,
   "id": "9f46bbb3",
   "metadata": {},
   "outputs": [
    {
     "data": {
      "text/plain": [
       "7814.455658644848"
      ]
     },
     "execution_count": 179,
     "metadata": {},
     "output_type": "execute_result"
    }
   ],
   "source": [
    "h.a"
   ]
  },
  {
   "cell_type": "code",
   "execution_count": 180,
   "id": "1e711752",
   "metadata": {},
   "outputs": [
    {
     "data": {
      "text/plain": [
       "-2289.1616562265035"
      ]
     },
     "execution_count": 180,
     "metadata": {},
     "output_type": "execute_result"
    }
   ],
   "source": [
    "h.b"
   ]
  },
  {
   "cell_type": "code",
   "execution_count": 181,
   "id": "0e47ec5a",
   "metadata": {},
   "outputs": [
    {
     "data": {
      "text/html": [
       "<div>\n",
       "<style scoped>\n",
       "    .dataframe tbody tr th:only-of-type {\n",
       "        vertical-align: middle;\n",
       "    }\n",
       "\n",
       "    .dataframe tbody tr th {\n",
       "        vertical-align: top;\n",
       "    }\n",
       "\n",
       "    .dataframe thead th {\n",
       "        text-align: right;\n",
       "    }\n",
       "</style>\n",
       "<table border=\"1\" class=\"dataframe\">\n",
       "  <thead>\n",
       "    <tr style=\"text-align: right;\">\n",
       "      <th></th>\n",
       "      <th>carat</th>\n",
       "      <th>price</th>\n",
       "    </tr>\n",
       "  </thead>\n",
       "  <tbody>\n",
       "    <tr>\n",
       "      <th>0</th>\n",
       "      <td>0.24</td>\n",
       "      <td>559</td>\n",
       "    </tr>\n",
       "    <tr>\n",
       "      <th>1</th>\n",
       "      <td>0.58</td>\n",
       "      <td>2201</td>\n",
       "    </tr>\n",
       "    <tr>\n",
       "      <th>2</th>\n",
       "      <td>0.40</td>\n",
       "      <td>1238</td>\n",
       "    </tr>\n",
       "    <tr>\n",
       "      <th>3</th>\n",
       "      <td>0.43</td>\n",
       "      <td>1304</td>\n",
       "    </tr>\n",
       "    <tr>\n",
       "      <th>4</th>\n",
       "      <td>1.55</td>\n",
       "      <td>6901</td>\n",
       "    </tr>\n",
       "  </tbody>\n",
       "</table>\n",
       "</div>"
      ],
      "text/plain": [
       "   carat  price\n",
       "0   0.24    559\n",
       "1   0.58   2201\n",
       "2   0.40   1238\n",
       "3   0.43   1304\n",
       "4   1.55   6901"
      ]
     },
     "execution_count": 181,
     "metadata": {},
     "output_type": "execute_result"
    }
   ],
   "source": [
    "df.head()"
   ]
  },
  {
   "cell_type": "code",
   "execution_count": 182,
   "id": "613f7afc",
   "metadata": {},
   "outputs": [],
   "source": [
    "rng = np.linspace(0, 3, 1000)"
   ]
  },
  {
   "cell_type": "code",
   "execution_count": 183,
   "id": "c3237945",
   "metadata": {},
   "outputs": [
    {
     "data": {
      "text/plain": [
       "[<matplotlib.lines.Line2D at 0x251e30b0c40>]"
      ]
     },
     "execution_count": 183,
     "metadata": {},
     "output_type": "execute_result"
    },
    {
     "data": {
      "image/png": "[encoded data removed]",
      "text/plain": [
       "<Figure size 640x480 with 1 Axes>"
      ]
     },
     "metadata": {},
     "output_type": "display_data"
    }
   ],
   "source": [
    "plt.scatter(df[\"carat\"], df[\"price\"])\n",
    "plt.plot(rng, [h.predict(x) for x in rng], c=\"r\")"
   ]
  },
  {
   "cell_type": "code",
   "execution_count": 184,
   "id": "16842e4a",
   "metadata": {},
   "outputs": [
    {
     "name": "stderr",
     "output_type": "stream",
     "text": [
      "C:\\Users\\kmara\\AppData\\Local\\Temp\\ipykernel_33788\\3342843509.py:2: RuntimeWarning: divide by zero encountered in log\n",
      "  plt.plot(np.log(rng), [h2.predict(np.log(x)) for x in rng], c=\"r\")\n"
     ]
    },
    {
     "data": {
      "text/plain": [
       "[<matplotlib.lines.Line2D at 0x251e30f7130>]"
      ]
     },
     "execution_count": 184,
     "metadata": {},
     "output_type": "execute_result"
    },
    {
     "data": {
      "image/png": "[encoded data removed]",
      "text/plain": [
       "<Figure size 640x480 with 1 Axes>"
      ]
     },
     "metadata": {},
     "output_type": "display_data"
    }
   ],
   "source": [
    "plt.scatter(df[\"carat\"], df[\"price\"])\n",
    "plt.plot(np.log(rng), [h2.predict(np.log(x)) for x in rng], c=\"r\")\n"
   ]
  },
  {
   "attachments": {},
   "cell_type": "markdown",
   "id": "1f17f039",
   "metadata": {},
   "source": [
    "---"
   ]
  },
  {
   "attachments": {},
   "cell_type": "markdown",
   "id": "1e89921f",
   "metadata": {},
   "source": [
    "Polinomiyel Regresyon"
   ]
  },
  {
   "attachments": {},
   "cell_type": "markdown",
   "id": "07047ad7",
   "metadata": {},
   "source": [
    "fiyat = a * carat^2 + b * carat + c"
   ]
  },
  {
   "cell_type": "code",
   "execution_count": 208,
   "id": "11ead309",
   "metadata": {},
   "outputs": [],
   "source": [
    "X[\"carat^2\"] = X[\"carat\"]**2"
   ]
  },
  {
   "cell_type": "code",
   "execution_count": 213,
   "id": "24d616c0",
   "metadata": {},
   "outputs": [
    {
     "data": {
      "text/html": [
       "<style>#sk-container-id-6 {color: black;background-color: white;}#sk-container-id-6 pre{padding: 0;}#sk-container-id-6 div.sk-toggleable {background-color: white;}#sk-container-id-6 label.sk-toggleable__label {cursor: pointer;display: block;width: 100%;margin-bottom: 0;padding: 0.3em;box-sizing: border-box;text-align: center;}#sk-container-id-6 label.sk-toggleable__label-arrow:before {content: \"▸\";float: left;margin-right: 0.25em;color: #696969;}#sk-container-id-6 label.sk-toggleable__label-arrow:hover:before {color: black;}#sk-container-id-6 div.sk-estimator:hover label.sk-toggleable__label-arrow:before {color: black;}#sk-container-id-6 div.sk-toggleable__content {max-height: 0;max-width: 0;overflow: hidden;text-align: left;background-color: #f0f8ff;}#sk-container-id-6 div.sk-toggleable__content pre {margin: 0.2em;color: black;border-radius: 0.25em;background-color: #f0f8ff;}#sk-container-id-6 input.sk-toggleable__control:checked~div.sk-toggleable__content {max-height: 200px;max-width: 100%;overflow: auto;}#sk-container-id-6 input.sk-toggleable__control:checked~label.sk-toggleable__label-arrow:before {content: \"▾\";}#sk-container-id-6 div.sk-estimator input.sk-toggleable__control:checked~label.sk-toggleable__label {background-color: #d4ebff;}#sk-container-id-6 div.sk-label input.sk-toggleable__control:checked~label.sk-toggleable__label {background-color: #d4ebff;}#sk-container-id-6 input.sk-hidden--visually {border: 0;clip: rect(1px 1px 1px 1px);clip: rect(1px, 1px, 1px, 1px);height: 1px;margin: -1px;overflow: hidden;padding: 0;position: absolute;width: 1px;}#sk-container-id-6 div.sk-estimator {font-family: monospace;background-color: #f0f8ff;border: 1px dotted black;border-radius: 0.25em;box-sizing: border-box;margin-bottom: 0.5em;}#sk-container-id-6 div.sk-estimator:hover {background-color: #d4ebff;}#sk-container-id-6 div.sk-parallel-item::after {content: \"\";width: 100%;border-bottom: 1px solid gray;flex-grow: 1;}#sk-container-id-6 div.sk-label:hover label.sk-toggleable__label {background-color: #d4ebff;}#sk-container-id-6 div.sk-serial::before {content: \"\";position: absolute;border-left: 1px solid gray;box-sizing: border-box;top: 0;bottom: 0;left: 50%;z-index: 0;}#sk-container-id-6 div.sk-serial {display: flex;flex-direction: column;align-items: center;background-color: white;padding-right: 0.2em;padding-left: 0.2em;position: relative;}#sk-container-id-6 div.sk-item {position: relative;z-index: 1;}#sk-container-id-6 div.sk-parallel {display: flex;align-items: stretch;justify-content: center;background-color: white;position: relative;}#sk-container-id-6 div.sk-item::before, #sk-container-id-6 div.sk-parallel-item::before {content: \"\";position: absolute;border-left: 1px solid gray;box-sizing: border-box;top: 0;bottom: 0;left: 50%;z-index: -1;}#sk-container-id-6 div.sk-parallel-item {display: flex;flex-direction: column;z-index: 1;position: relative;background-color: white;}#sk-container-id-6 div.sk-parallel-item:first-child::after {align-self: flex-end;width: 50%;}#sk-container-id-6 div.sk-parallel-item:last-child::after {align-self: flex-start;width: 50%;}#sk-container-id-6 div.sk-parallel-item:only-child::after {width: 0;}#sk-container-id-6 div.sk-dashed-wrapped {border: 1px dashed gray;margin: 0 0.4em 0.5em 0.4em;box-sizing: border-box;padding-bottom: 0.4em;background-color: white;}#sk-container-id-6 div.sk-label label {font-family: monospace;font-weight: bold;display: inline-block;line-height: 1.2em;}#sk-container-id-6 div.sk-label-container {text-align: center;}#sk-container-id-6 div.sk-container {/* jupyter's `normalize.less` sets `[hidden] { display: none; }` but bootstrap.min.css set `[hidden] { display: none !important; }` so we also need the `!important` here to be able to override the default hidden behavior on the sphinx rendered scikit-learn.org. See: https://github.com/scikit-learn/scikit-learn/issues/21755 */display: inline-block !important;position: relative;}#sk-container-id-6 div.sk-text-repr-fallback {display: none;}</style><div id=\"sk-container-id-6\" class=\"sk-top-container\"><div class=\"sk-text-repr-fallback\"><pre>LinearRegression()</pre><b>In a Jupyter environment, please rerun this cell to show the HTML representation or trust the notebook. <br />On GitHub, the HTML representation is unable to render, please try loading this page with nbviewer.org.</b></div><div class=\"sk-container\" hidden><div class=\"sk-item\"><div class=\"sk-estimator sk-toggleable\"><input class=\"sk-toggleable__control sk-hidden--visually\" id=\"sk-estimator-id-6\" type=\"checkbox\" checked><label for=\"sk-estimator-id-6\" class=\"sk-toggleable__label sk-toggleable__label-arrow\">LinearRegression</label><div class=\"sk-toggleable__content\"><pre>LinearRegression()</pre></div></div></div></div></div>"
      ],
      "text/plain": [
       "LinearRegression()"
      ]
     },
     "execution_count": 213,
     "metadata": {},
     "output_type": "execute_result"
    }
   ],
   "source": [
    "pol = linear_model.LinearRegression()\n",
    "pol.fit(X[[\"carat\", \"carat^2\"]], Y)"
   ]
  },
  {
   "cell_type": "code",
   "execution_count": 214,
   "id": "aa01786f",
   "metadata": {},
   "outputs": [
    {
     "data": {
      "text/plain": [
       "<matplotlib.collections.PathCollection at 0x251e34643a0>"
      ]
     },
     "execution_count": 214,
     "metadata": {},
     "output_type": "execute_result"
    },
    {
     "data": {
      "image/png": "[encoded data removed]",
      "text/plain": [
       "<Figure size 640x480 with 1 Axes>"
      ]
     },
     "metadata": {},
     "output_type": "display_data"
    }
   ],
   "source": [
    "rng = np.linspace(0, 3, 1000)\n",
    "plt.scatter(df[\"carat\"], df[\"price\"])\n",
    "# plt.plot(rng, lrv.tahmin(rng), c=\"r\")"
   ]
  },
  {
   "cell_type": "code",
   "execution_count": 217,
   "id": "90555ef3",
   "metadata": {},
   "outputs": [
    {
     "data": {
      "text/plain": [
       "[<matplotlib.lines.Line2D at 0x251e3630130>]"
      ]
     },
     "execution_count": 217,
     "metadata": {},
     "output_type": "execute_result"
    },
    {
     "data": {
      "image/png": "[encoded data removed]",
      "text/plain": [
       "<Figure size 640x480 with 1 Axes>"
      ]
     },
     "metadata": {},
     "output_type": "display_data"
    }
   ],
   "source": [
    "rng = np.linspace(0, 3, 1000)\n",
    "plt.scatter(df1[\"carat\"], df1[\"price\"])\n",
    "plt.plot(rng, pol.predict(pd.DataFrame({\"carat\": rng, \"carat^2\": rng**2})), c=\"r\")"
   ]
  },
  {
   "cell_type": "code",
   "execution_count": 219,
   "id": "d07ea235",
   "metadata": {},
   "outputs": [
    {
     "data": {
      "text/plain": [
       "<matplotlib.collections.PathCollection at 0x251e36b6ee0>"
      ]
     },
     "execution_count": 219,
     "metadata": {},
     "output_type": "execute_result"
    },
    {
     "data": {
      "image/png": "[encoded data removed]",
      "text/plain": [
       "<Figure size 640x480 with 1 Axes>"
      ]
     },
     "metadata": {},
     "output_type": "display_data"
    }
   ],
   "source": [
    "plt.scatter(df[\"carat\"], df[\"carat\"]**2, c = pol.predict(X[[\"carat\", \"carat^2\"]]))"
   ]
  },
  {
   "cell_type": "code",
   "execution_count": 220,
   "id": "67465a4f",
   "metadata": {},
   "outputs": [],
   "source": [
    "aa, bb = np.meshgrid(np.linspace(0, 2.5, 100), np.linspace(0, 2.5, 100))"
   ]
  },
  {
   "cell_type": "code",
   "execution_count": 223,
   "id": "a85bc95e",
   "metadata": {},
   "outputs": [
    {
     "name": "stderr",
     "output_type": "stream",
     "text": [
      "c:\\Users\\kmara\\AppData\\Local\\Programs\\Python\\Python39\\lib\\site-packages\\sklearn\\base.py:439: UserWarning: X does not have valid feature names, but LinearRegression was fitted with feature names\n",
      "  warnings.warn(\n"
     ]
    }
   ],
   "source": [
    "zz = pol.predict(np.array([aa.ravel(), bb.ravel()]).T).reshape(aa.shape)"
   ]
  },
  {
   "cell_type": "code",
   "execution_count": 225,
   "id": "384c7bd9",
   "metadata": {},
   "outputs": [
    {
     "data": {
      "text/plain": [
       "<matplotlib.colorbar.Colorbar at 0x251e3838160>"
      ]
     },
     "execution_count": 225,
     "metadata": {},
     "output_type": "execute_result"
    },
    {
     "data": {
      "image/png": "[encoded data removed]",
      "text/plain": [
       "<Figure size 640x480 with 2 Axes>"
      ]
     },
     "metadata": {},
     "output_type": "display_data"
    }
   ],
   "source": [
    "plt.contourf (aa, bb, zz)\n",
    "plt.colorbar()"
   ]
  },
  {
   "cell_type": "code",
   "execution_count": 342,
   "id": "7565c0b3",
   "metadata": {},
   "outputs": [],
   "source": [
    "from sklearn import preprocessing\n",
    "from sklearn.preprocessing import PolynomialFeatures"
   ]
  },
  {
   "cell_type": "code",
   "execution_count": 343,
   "id": "66879d69",
   "metadata": {},
   "outputs": [],
   "source": [
    "poly = preprocessing.PolynomialFeatures(32)"
   ]
  },
  {
   "cell_type": "code",
   "execution_count": 344,
   "id": "b450f396",
   "metadata": {},
   "outputs": [],
   "source": [
    "Xp = poly.fit_transform(X[[\"carat\"]])"
   ]
  },
  {
   "cell_type": "code",
   "execution_count": 345,
   "id": "46683b4a",
   "metadata": {},
   "outputs": [
    {
     "data": {
      "text/plain": [
       "(150, 33)"
      ]
     },
     "execution_count": 345,
     "metadata": {},
     "output_type": "execute_result"
    }
   ],
   "source": [
    "Xp.shape"
   ]
  },
  {
   "cell_type": "code",
   "execution_count": 346,
   "id": "69d24263",
   "metadata": {},
   "outputs": [
    {
     "data": {
      "text/html": [
       "<style>#sk-container-id-22 {color: black;background-color: white;}#sk-container-id-22 pre{padding: 0;}#sk-container-id-22 div.sk-toggleable {background-color: white;}#sk-container-id-22 label.sk-toggleable__label {cursor: pointer;display: block;width: 100%;margin-bottom: 0;padding: 0.3em;box-sizing: border-box;text-align: center;}#sk-container-id-22 label.sk-toggleable__label-arrow:before {content: \"▸\";float: left;margin-right: 0.25em;color: #696969;}#sk-container-id-22 label.sk-toggleable__label-arrow:hover:before {color: black;}#sk-container-id-22 div.sk-estimator:hover label.sk-toggleable__label-arrow:before {color: black;}#sk-container-id-22 div.sk-toggleable__content {max-height: 0;max-width: 0;overflow: hidden;text-align: left;background-color: #f0f8ff;}#sk-container-id-22 div.sk-toggleable__content pre {margin: 0.2em;color: black;border-radius: 0.25em;background-color: #f0f8ff;}#sk-container-id-22 input.sk-toggleable__control:checked~div.sk-toggleable__content {max-height: 200px;max-width: 100%;overflow: auto;}#sk-container-id-22 input.sk-toggleable__control:checked~label.sk-toggleable__label-arrow:before {content: \"▾\";}#sk-container-id-22 div.sk-estimator input.sk-toggleable__control:checked~label.sk-toggleable__label {background-color: #d4ebff;}#sk-container-id-22 div.sk-label input.sk-toggleable__control:checked~label.sk-toggleable__label {background-color: #d4ebff;}#sk-container-id-22 input.sk-hidden--visually {border: 0;clip: rect(1px 1px 1px 1px);clip: rect(1px, 1px, 1px, 1px);height: 1px;margin: -1px;overflow: hidden;padding: 0;position: absolute;width: 1px;}#sk-container-id-22 div.sk-estimator {font-family: monospace;background-color: #f0f8ff;border: 1px dotted black;border-radius: 0.25em;box-sizing: border-box;margin-bottom: 0.5em;}#sk-container-id-22 div.sk-estimator:hover {background-color: #d4ebff;}#sk-container-id-22 div.sk-parallel-item::after {content: \"\";width: 100%;border-bottom: 1px solid gray;flex-grow: 1;}#sk-container-id-22 div.sk-label:hover label.sk-toggleable__label {background-color: #d4ebff;}#sk-container-id-22 div.sk-serial::before {content: \"\";position: absolute;border-left: 1px solid gray;box-sizing: border-box;top: 0;bottom: 0;left: 50%;z-index: 0;}#sk-container-id-22 div.sk-serial {display: flex;flex-direction: column;align-items: center;background-color: white;padding-right: 0.2em;padding-left: 0.2em;position: relative;}#sk-container-id-22 div.sk-item {position: relative;z-index: 1;}#sk-container-id-22 div.sk-parallel {display: flex;align-items: stretch;justify-content: center;background-color: white;position: relative;}#sk-container-id-22 div.sk-item::before, #sk-container-id-22 div.sk-parallel-item::before {content: \"\";position: absolute;border-left: 1px solid gray;box-sizing: border-box;top: 0;bottom: 0;left: 50%;z-index: -1;}#sk-container-id-22 div.sk-parallel-item {display: flex;flex-direction: column;z-index: 1;position: relative;background-color: white;}#sk-container-id-22 div.sk-parallel-item:first-child::after {align-self: flex-end;width: 50%;}#sk-container-id-22 div.sk-parallel-item:last-child::after {align-self: flex-start;width: 50%;}#sk-container-id-22 div.sk-parallel-item:only-child::after {width: 0;}#sk-container-id-22 div.sk-dashed-wrapped {border: 1px dashed gray;margin: 0 0.4em 0.5em 0.4em;box-sizing: border-box;padding-bottom: 0.4em;background-color: white;}#sk-container-id-22 div.sk-label label {font-family: monospace;font-weight: bold;display: inline-block;line-height: 1.2em;}#sk-container-id-22 div.sk-label-container {text-align: center;}#sk-container-id-22 div.sk-container {/* jupyter's `normalize.less` sets `[hidden] { display: none; }` but bootstrap.min.css set `[hidden] { display: none !important; }` so we also need the `!important` here to be able to override the default hidden behavior on the sphinx rendered scikit-learn.org. See: https://github.com/scikit-learn/scikit-learn/issues/21755 */display: inline-block !important;position: relative;}#sk-container-id-22 div.sk-text-repr-fallback {display: none;}</style><div id=\"sk-container-id-22\" class=\"sk-top-container\"><div class=\"sk-text-repr-fallback\"><pre>LinearRegression()</pre><b>In a Jupyter environment, please rerun this cell to show the HTML representation or trust the notebook. <br />On GitHub, the HTML representation is unable to render, please try loading this page with nbviewer.org.</b></div><div class=\"sk-container\" hidden><div class=\"sk-item\"><div class=\"sk-estimator sk-toggleable\"><input class=\"sk-toggleable__control sk-hidden--visually\" id=\"sk-estimator-id-22\" type=\"checkbox\" checked><label for=\"sk-estimator-id-22\" class=\"sk-toggleable__label sk-toggleable__label-arrow\">LinearRegression</label><div class=\"sk-toggleable__content\"><pre>LinearRegression()</pre></div></div></div></div></div>"
      ],
      "text/plain": [
       "LinearRegression()"
      ]
     },
     "execution_count": 346,
     "metadata": {},
     "output_type": "execute_result"
    }
   ],
   "source": [
    "model_16 = linear_model.LinearRegression()\n",
    "model_16.fit(Xp[:20], Y[:20])"
   ]
  },
  {
   "cell_type": "code",
   "execution_count": 347,
   "id": "7ba087f1",
   "metadata": {},
   "outputs": [
    {
     "data": {
      "text/plain": [
       "0.9746847158375208"
      ]
     },
     "execution_count": 347,
     "metadata": {},
     "output_type": "execute_result"
    }
   ],
   "source": [
    "model_16.score(Xp[:20], Y[:20])"
   ]
  },
  {
   "cell_type": "code",
   "execution_count": 348,
   "id": "5b5afab6",
   "metadata": {},
   "outputs": [],
   "source": [
    "from sklearn import metrics"
   ]
  },
  {
   "cell_type": "code",
   "execution_count": 349,
   "id": "8fb10159",
   "metadata": {},
   "outputs": [
    {
     "data": {
      "text/plain": [
       "319354.8191505055"
      ]
     },
     "execution_count": 349,
     "metadata": {},
     "output_type": "execute_result"
    }
   ],
   "source": [
    "metrics.mean_squared_error(Y[:20], model_16.predict(Xp[:20]))"
   ]
  },
  {
   "cell_type": "code",
   "execution_count": 350,
   "id": "5a784d12",
   "metadata": {},
   "outputs": [
    {
     "name": "stderr",
     "output_type": "stream",
     "text": [
      "c:\\Users\\kmara\\AppData\\Local\\Programs\\Python\\Python39\\lib\\site-packages\\sklearn\\base.py:439: UserWarning: X does not have valid feature names, but PolynomialFeatures was fitted with feature names\n",
      "  warnings.warn(\n"
     ]
    },
    {
     "data": {
      "text/plain": [
       "(0.0, 40000.0)"
      ]
     },
     "execution_count": 350,
     "metadata": {},
     "output_type": "execute_result"
    },
    {
     "data": {
      "image/png": "[encoded data removed]",
      "text/plain": [
       "<Figure size 640x480 with 1 Axes>"
      ]
     },
     "metadata": {},
     "output_type": "display_data"
    }
   ],
   "source": [
    "rng = np.linspace(0, 3, 1000)\n",
    "plt.scatter(df1[\"carat\"][:20], df1[\"price\"][:20])\n",
    "plt.plot(rng, model_16.predict(poly.transform(rng[:,None])), c=\"r\")\n",
    "plt.xlim(0.5,2.5)\n",
    "plt.ylim(0, 40000)"
   ]
  },
  {
   "cell_type": "code",
   "execution_count": 351,
   "id": "5cbfb762",
   "metadata": {},
   "outputs": [
    {
     "name": "stderr",
     "output_type": "stream",
     "text": [
      "c:\\Users\\kmara\\AppData\\Local\\Programs\\Python\\Python39\\lib\\site-packages\\sklearn\\base.py:439: UserWarning: X does not have valid feature names, but PolynomialFeatures was fitted with feature names\n",
      "  warnings.warn(\n"
     ]
    },
    {
     "data": {
      "text/plain": [
       "array([-1.22893887e+16])"
      ]
     },
     "execution_count": 351,
     "metadata": {},
     "output_type": "execute_result"
    }
   ],
   "source": [
    "model_16.predict(poly.transform([[2.15]]))"
   ]
  },
  {
   "cell_type": "code",
   "execution_count": 352,
   "id": "2e709fac",
   "metadata": {},
   "outputs": [
    {
     "data": {
      "text/plain": [
       "-1.7715615882997115e+28"
      ]
     },
     "execution_count": 352,
     "metadata": {},
     "output_type": "execute_result"
    }
   ],
   "source": [
    "model_16.score(Xp, Y)"
   ]
  },
  {
   "cell_type": "code",
   "execution_count": 318,
   "id": "69aa319b",
   "metadata": {},
   "outputs": [
    {
     "data": {
      "text/html": [
       "<style>#sk-container-id-17 {color: black;background-color: white;}#sk-container-id-17 pre{padding: 0;}#sk-container-id-17 div.sk-toggleable {background-color: white;}#sk-container-id-17 label.sk-toggleable__label {cursor: pointer;display: block;width: 100%;margin-bottom: 0;padding: 0.3em;box-sizing: border-box;text-align: center;}#sk-container-id-17 label.sk-toggleable__label-arrow:before {content: \"▸\";float: left;margin-right: 0.25em;color: #696969;}#sk-container-id-17 label.sk-toggleable__label-arrow:hover:before {color: black;}#sk-container-id-17 div.sk-estimator:hover label.sk-toggleable__label-arrow:before {color: black;}#sk-container-id-17 div.sk-toggleable__content {max-height: 0;max-width: 0;overflow: hidden;text-align: left;background-color: #f0f8ff;}#sk-container-id-17 div.sk-toggleable__content pre {margin: 0.2em;color: black;border-radius: 0.25em;background-color: #f0f8ff;}#sk-container-id-17 input.sk-toggleable__control:checked~div.sk-toggleable__content {max-height: 200px;max-width: 100%;overflow: auto;}#sk-container-id-17 input.sk-toggleable__control:checked~label.sk-toggleable__label-arrow:before {content: \"▾\";}#sk-container-id-17 div.sk-estimator input.sk-toggleable__control:checked~label.sk-toggleable__label {background-color: #d4ebff;}#sk-container-id-17 div.sk-label input.sk-toggleable__control:checked~label.sk-toggleable__label {background-color: #d4ebff;}#sk-container-id-17 input.sk-hidden--visually {border: 0;clip: rect(1px 1px 1px 1px);clip: rect(1px, 1px, 1px, 1px);height: 1px;margin: -1px;overflow: hidden;padding: 0;position: absolute;width: 1px;}#sk-container-id-17 div.sk-estimator {font-family: monospace;background-color: #f0f8ff;border: 1px dotted black;border-radius: 0.25em;box-sizing: border-box;margin-bottom: 0.5em;}#sk-container-id-17 div.sk-estimator:hover {background-color: #d4ebff;}#sk-container-id-17 div.sk-parallel-item::after {content: \"\";width: 100%;border-bottom: 1px solid gray;flex-grow: 1;}#sk-container-id-17 div.sk-label:hover label.sk-toggleable__label {background-color: #d4ebff;}#sk-container-id-17 div.sk-serial::before {content: \"\";position: absolute;border-left: 1px solid gray;box-sizing: border-box;top: 0;bottom: 0;left: 50%;z-index: 0;}#sk-container-id-17 div.sk-serial {display: flex;flex-direction: column;align-items: center;background-color: white;padding-right: 0.2em;padding-left: 0.2em;position: relative;}#sk-container-id-17 div.sk-item {position: relative;z-index: 1;}#sk-container-id-17 div.sk-parallel {display: flex;align-items: stretch;justify-content: center;background-color: white;position: relative;}#sk-container-id-17 div.sk-item::before, #sk-container-id-17 div.sk-parallel-item::before {content: \"\";position: absolute;border-left: 1px solid gray;box-sizing: border-box;top: 0;bottom: 0;left: 50%;z-index: -1;}#sk-container-id-17 div.sk-parallel-item {display: flex;flex-direction: column;z-index: 1;position: relative;background-color: white;}#sk-container-id-17 div.sk-parallel-item:first-child::after {align-self: flex-end;width: 50%;}#sk-container-id-17 div.sk-parallel-item:last-child::after {align-self: flex-start;width: 50%;}#sk-container-id-17 div.sk-parallel-item:only-child::after {width: 0;}#sk-container-id-17 div.sk-dashed-wrapped {border: 1px dashed gray;margin: 0 0.4em 0.5em 0.4em;box-sizing: border-box;padding-bottom: 0.4em;background-color: white;}#sk-container-id-17 div.sk-label label {font-family: monospace;font-weight: bold;display: inline-block;line-height: 1.2em;}#sk-container-id-17 div.sk-label-container {text-align: center;}#sk-container-id-17 div.sk-container {/* jupyter's `normalize.less` sets `[hidden] { display: none; }` but bootstrap.min.css set `[hidden] { display: none !important; }` so we also need the `!important` here to be able to override the default hidden behavior on the sphinx rendered scikit-learn.org. See: https://github.com/scikit-learn/scikit-learn/issues/21755 */display: inline-block !important;position: relative;}#sk-container-id-17 div.sk-text-repr-fallback {display: none;}</style><div id=\"sk-container-id-17\" class=\"sk-top-container\"><div class=\"sk-text-repr-fallback\"><pre>LinearRegression()</pre><b>In a Jupyter environment, please rerun this cell to show the HTML representation or trust the notebook. <br />On GitHub, the HTML representation is unable to render, please try loading this page with nbviewer.org.</b></div><div class=\"sk-container\" hidden><div class=\"sk-item\"><div class=\"sk-estimator sk-toggleable\"><input class=\"sk-toggleable__control sk-hidden--visually\" id=\"sk-estimator-id-17\" type=\"checkbox\" checked><label for=\"sk-estimator-id-17\" class=\"sk-toggleable__label sk-toggleable__label-arrow\">LinearRegression</label><div class=\"sk-toggleable__content\"><pre>LinearRegression()</pre></div></div></div></div></div>"
      ],
      "text/plain": [
       "LinearRegression()"
      ]
     },
     "execution_count": 318,
     "metadata": {},
     "output_type": "execute_result"
    }
   ],
   "source": [
    "poly3 = preprocessing.PolynomialFeatures(3)\n",
    "Xp = poly3.fit_transform(X[[\"carat\"]])\n",
    "model_3 = linear_model.LinearRegression()\n",
    "model_3.fit(Xp[:20], Y[:20])"
   ]
  },
  {
   "cell_type": "code",
   "execution_count": 294,
   "id": "937ce4a8",
   "metadata": {},
   "outputs": [
    {
     "data": {
      "text/plain": [
       "0.9584429429617665"
      ]
     },
     "execution_count": 294,
     "metadata": {},
     "output_type": "execute_result"
    }
   ],
   "source": [
    "model_3.score(Xp[:20], Y[:20])"
   ]
  },
  {
   "cell_type": "code",
   "execution_count": 295,
   "id": "a9f5bf13",
   "metadata": {},
   "outputs": [
    {
     "data": {
      "text/plain": [
       "524246.393984487"
      ]
     },
     "execution_count": 295,
     "metadata": {},
     "output_type": "execute_result"
    }
   ],
   "source": [
    "metrics.mean_squared_error(Y[:20], model_3.predict(Xp[:20]))"
   ]
  },
  {
   "cell_type": "code",
   "execution_count": 330,
   "id": "27c3e6b1",
   "metadata": {},
   "outputs": [
    {
     "name": "stderr",
     "output_type": "stream",
     "text": [
      "c:\\Users\\kmara\\AppData\\Local\\Programs\\Python\\Python39\\lib\\site-packages\\sklearn\\base.py:439: UserWarning: X does not have valid feature names, but PolynomialFeatures was fitted with feature names\n",
      "  warnings.warn(\n"
     ]
    },
    {
     "data": {
      "text/plain": [
       "(0.0, 40000.0)"
      ]
     },
     "execution_count": 330,
     "metadata": {},
     "output_type": "execute_result"
    },
    {
     "data": {
      "image/png": "[encoded data removed]",
      "text/plain": [
       "<Figure size 640x480 with 1 Axes>"
      ]
     },
     "metadata": {},
     "output_type": "display_data"
    }
   ],
   "source": [
    "rng = np.linspace(0, 3, 1000)\n",
    "plt.scatter(df1[\"carat\"][:20], df1[\"price\"][:20])\n",
    "plt.plot(rng, model_3.predict(poly3.transform(rng[:,None])), c=\"r\")\n",
    "plt.xlim(0.5,2.5)\n",
    "plt.ylim(0, 40000)"
   ]
  },
  {
   "cell_type": "code",
   "execution_count": 267,
   "id": "d24accb8",
   "metadata": {},
   "outputs": [
    {
     "data": {
      "text/plain": [
       "count      150.000000\n",
       "mean      4050.806297\n",
       "std       4233.957581\n",
       "min        502.886559\n",
       "25%       1056.170772\n",
       "50%       2120.867471\n",
       "75%       4947.683145\n",
       "max      17527.535280\n",
       "dtype: float64"
      ]
     },
     "execution_count": 267,
     "metadata": {},
     "output_type": "execute_result"
    }
   ],
   "source": [
    "pd.Series(model_16.predict(poly.transform(X[[\"carat\"]]))).describe()"
   ]
  },
  {
   "cell_type": "code",
   "execution_count": 270,
   "id": "4d760257",
   "metadata": {},
   "outputs": [
    {
     "data": {
      "text/plain": [
       "count      150.000000\n",
       "mean      4050.966667\n",
       "std       4192.545211\n",
       "min        665.079813\n",
       "25%       1008.261833\n",
       "50%       1890.512936\n",
       "75%       5244.663616\n",
       "max      17257.573120\n",
       "dtype: float64"
      ]
     },
     "execution_count": 270,
     "metadata": {},
     "output_type": "execute_result"
    }
   ],
   "source": [
    "pd.Series(model_3.predict(poly3.transform(X[[\"carat\"]]))).describe()"
   ]
  },
  {
   "cell_type": "code",
   "execution_count": 314,
   "id": "1426f5ae",
   "metadata": {},
   "outputs": [
    {
     "data": {
      "text/plain": [
       "0.9683255940696454"
      ]
     },
     "execution_count": 314,
     "metadata": {},
     "output_type": "execute_result"
    }
   ],
   "source": [
    "model_16.fit(poly.transform(X[[\"carat\"]])[:16], Y[:16])\n",
    "model_16.score(poly.transform(X[[\"carat\"]])[:16], Y[:16])"
   ]
  },
  {
   "cell_type": "code",
   "execution_count": 355,
   "id": "24741e84",
   "metadata": {},
   "outputs": [
    {
     "data": {
      "text/plain": [
       "395927.5527378578"
      ]
     },
     "execution_count": 355,
     "metadata": {},
     "output_type": "execute_result"
    }
   ],
   "source": [
    "metrics.mean_squared_error(Y[:16], model_16.predict(poly.transform(X[[\"carat\"]])[:16]))"
   ]
  },
  {
   "cell_type": "code",
   "execution_count": 357,
   "id": "3bede7aa",
   "metadata": {},
   "outputs": [
    {
     "data": {
      "text/plain": [
       "629.2277431406357"
      ]
     },
     "execution_count": 357,
     "metadata": {},
     "output_type": "execute_result"
    }
   ],
   "source": [
    "395927.5527378578**0.5"
   ]
  },
  {
   "cell_type": "code",
   "execution_count": 312,
   "id": "de259617",
   "metadata": {},
   "outputs": [
    {
     "data": {
      "text/plain": [
       "-2089458167349830.2"
      ]
     },
     "execution_count": 312,
     "metadata": {},
     "output_type": "execute_result"
    }
   ],
   "source": [
    "model_16.score(poly3.transform(X[[\"carat\"]])[16:20], Y[16:20])"
   ]
  },
  {
   "cell_type": "code",
   "execution_count": 320,
   "id": "85762872",
   "metadata": {},
   "outputs": [
    {
     "data": {
      "text/plain": [
       "0.9654945246861222"
      ]
     },
     "execution_count": 320,
     "metadata": {},
     "output_type": "execute_result"
    }
   ],
   "source": [
    "model_3.fit(poly3.transform(X[[\"carat\"]])[:16], Y[:16])\n",
    "model_3.score(poly3.transform(X[[\"carat\"]])[:16], Y[:16])"
   ]
  },
  {
   "cell_type": "code",
   "execution_count": 356,
   "id": "fc2b9453",
   "metadata": {},
   "outputs": [
    {
     "data": {
      "text/plain": [
       "0.1336181330264758"
      ]
     },
     "execution_count": 356,
     "metadata": {},
     "output_type": "execute_result"
    }
   ],
   "source": [
    "metrics.mean_absolute_percentage_error(Y[:16], model_3.predict(poly3.transform(X[[\"carat\"]])[:16]))"
   ]
  },
  {
   "cell_type": "code",
   "execution_count": 354,
   "id": "4ae11d2c",
   "metadata": {},
   "outputs": [
    {
     "data": {
      "text/plain": [
       "426630.7820252091"
      ]
     },
     "execution_count": 354,
     "metadata": {},
     "output_type": "execute_result"
    }
   ],
   "source": [
    "metrics.mean_squared_error(Y[:16], model_3.predict(poly3.transform(X[[\"carat\"]])[:16]))"
   ]
  },
  {
   "cell_type": "code",
   "execution_count": 322,
   "id": "e3c6819c",
   "metadata": {},
   "outputs": [
    {
     "data": {
      "text/plain": [
       "0.9177484276869029"
      ]
     },
     "execution_count": 322,
     "metadata": {},
     "output_type": "execute_result"
    }
   ],
   "source": [
    "model_3.score(poly3.transform(X[[\"carat\"]])[16:20], Y[16:20])"
   ]
  },
  {
   "cell_type": "code",
   "execution_count": 360,
   "id": "e26f7699",
   "metadata": {},
   "outputs": [
    {
     "data": {
      "text/plain": [
       "0.11793248386570317"
      ]
     },
     "execution_count": 360,
     "metadata": {},
     "output_type": "execute_result"
    }
   ],
   "source": [
    "#WAPE\n",
    "metrics.mean_absolute_percentage_error(\n",
    "    Y[:16], \n",
    "    model_3.predict(poly3.transform(X[[\"carat\"]])[:16]),\n",
    "    sample_weight= Y[:16])"
   ]
  },
  {
   "cell_type": "code",
   "execution_count": null,
   "id": "6b0696b0",
   "metadata": {},
   "outputs": [],
   "source": []
  },
  {
   "cell_type": "code",
   "execution_count": null,
   "id": "672c16e0",
   "metadata": {},
   "outputs": [],
   "source": []
  }
 ],
 "metadata": {
  "kernelspec": {
   "display_name": "Python 3 (ipykernel)",
   "language": "python",
   "name": "python3"
  },
  "language_info": {
   "codemirror_mode": {
    "name": "ipython",
    "version": 3
   },
   "file_extension": ".py",
   "mimetype": "text/x-python",
   "name": "python",
   "nbconvert_exporter": "python",
   "pygments_lexer": "ipython3",
   "version": "3.9.13"
  }
 },
 "nbformat": 4,
 "nbformat_minor": 5
}
